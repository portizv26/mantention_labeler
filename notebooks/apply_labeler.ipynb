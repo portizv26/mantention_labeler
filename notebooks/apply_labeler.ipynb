{
 "cells": [
  {
   "cell_type": "code",
   "execution_count": 1,
   "id": "90a03bfb",
   "metadata": {},
   "outputs": [
    {
     "ename": "ImportError",
     "evalue": "cannot import name 'FinalMaintenanceRecord' from 'src.schemas' (c:\\Users\\patri\\Coddi\\Proyectos\\mantention_labeler\\src\\schemas.py)",
     "output_type": "error",
     "traceback": [
      "\u001b[31m---------------------------------------------------------------------------\u001b[39m",
      "\u001b[31mImportError\u001b[39m                               Traceback (most recent call last)",
      "\u001b[36mCell\u001b[39m\u001b[36m \u001b[39m\u001b[32mIn[1]\u001b[39m\u001b[32m, line 6\u001b[39m\n\u001b[32m      2\u001b[39m \u001b[38;5;28;01mimport\u001b[39;00m\u001b[38;5;250m \u001b[39m\u001b[34;01mjson\u001b[39;00m\n\u001b[32m      4\u001b[39m os.chdir(\u001b[33m'\u001b[39m\u001b[33m../\u001b[39m\u001b[33m'\u001b[39m)\n\u001b[32m----> \u001b[39m\u001b[32m6\u001b[39m \u001b[38;5;28;01mfrom\u001b[39;00m\u001b[38;5;250m \u001b[39m\u001b[34;01msrc\u001b[39;00m\u001b[34;01m.\u001b[39;00m\u001b[34;01morchestrator\u001b[39;00m\u001b[38;5;250m \u001b[39m\u001b[38;5;28;01mimport\u001b[39;00m excecute_labeler\n\u001b[32m      8\u001b[39m done_tuples = [\n\u001b[32m      9\u001b[39m     file \u001b[38;5;28;01mfor\u001b[39;00m file \u001b[38;5;129;01min\u001b[39;00m os.listdir(\u001b[33m'\u001b[39m\u001b[33mdata/processed\u001b[39m\u001b[33m'\u001b[39m) \u001b[38;5;28;01mif\u001b[39;00m file.endswith(\u001b[33m'\u001b[39m\u001b[33m.xlsx\u001b[39m\u001b[33m'\u001b[39m)\n\u001b[32m     10\u001b[39m ] \u001b[38;5;28;01mif\u001b[39;00m os.path.exists(\u001b[33m'\u001b[39m\u001b[33mdata/processed\u001b[39m\u001b[33m'\u001b[39m) \u001b[38;5;28;01melse\u001b[39;00m []\n\u001b[32m     12\u001b[39m remain_tuples = [\n\u001b[32m     13\u001b[39m     (file.rsplit(\u001b[33m'\u001b[39m\u001b[33m_\u001b[39m\u001b[33m'\u001b[39m, \u001b[32m1\u001b[39m)[-\u001b[32m1\u001b[39m].replace(\u001b[33m'\u001b[39m\u001b[33m.xlsx\u001b[39m\u001b[33m'\u001b[39m, \u001b[33m'\u001b[39m\u001b[33m'\u001b[39m).split(\u001b[33m'\u001b[39m\u001b[33m-\u001b[39m\u001b[33m'\u001b[39m))\n\u001b[32m     14\u001b[39m     \u001b[38;5;28;01mfor\u001b[39;00m file \u001b[38;5;129;01min\u001b[39;00m os.listdir(\u001b[33m'\u001b[39m\u001b[33mdata/to_process\u001b[39m\u001b[33m'\u001b[39m) \u001b[38;5;28;01mif\u001b[39;00m (file.endswith(\u001b[33m'\u001b[39m\u001b[33m.xlsx\u001b[39m\u001b[33m'\u001b[39m) \u001b[38;5;129;01mand\u001b[39;00m file \u001b[38;5;129;01mnot\u001b[39;00m \u001b[38;5;129;01min\u001b[39;00m done_tuples)\n\u001b[32m     15\u001b[39m ]\n",
      "\u001b[36mFile \u001b[39m\u001b[32mc:\\Users\\patri\\Coddi\\Proyectos\\mantention_labeler\\src\\orchestrator.py:4\u001b[39m\n\u001b[32m      2\u001b[39m \u001b[38;5;28;01mimport\u001b[39;00m\u001b[38;5;250m \u001b[39m\u001b[34;01margparse\u001b[39;00m\n\u001b[32m      3\u001b[39m \u001b[38;5;28;01mfrom\u001b[39;00m\u001b[38;5;250m \u001b[39m\u001b[34;01msrc\u001b[39;00m\u001b[34;01m.\u001b[39;00m\u001b[34;01mutils\u001b[39;00m\u001b[38;5;250m \u001b[39m\u001b[38;5;28;01mimport\u001b[39;00m timeit\n\u001b[32m----> \u001b[39m\u001b[32m4\u001b[39m \u001b[38;5;28;01mfrom\u001b[39;00m\u001b[38;5;250m \u001b[39m\u001b[34;01msrc\u001b[39;00m\u001b[34;01m.\u001b[39;00m\u001b[34;01mschemas\u001b[39;00m\u001b[38;5;250m \u001b[39m\u001b[38;5;28;01mimport\u001b[39;00m FinalMaintenanceRecord\n\u001b[32m      6\u001b[39m \u001b[38;5;28;01mdef\u001b[39;00m\u001b[38;5;250m \u001b[39m\u001b[34msetup_log_dir\u001b[39m(year: \u001b[38;5;28mstr\u001b[39m, week: \u001b[38;5;28mstr\u001b[39m):\n\u001b[32m      7\u001b[39m \u001b[38;5;250m    \u001b[39m\u001b[33;03m\"\"\"\u001b[39;00m\n\u001b[32m      8\u001b[39m \u001b[33;03m    Create logs/<year>/week_<week> and expose it via LOG_DIR.\u001b[39;00m\n\u001b[32m      9\u001b[39m \u001b[33;03m    \"\"\"\u001b[39;00m\n",
      "\u001b[31mImportError\u001b[39m: cannot import name 'FinalMaintenanceRecord' from 'src.schemas' (c:\\Users\\patri\\Coddi\\Proyectos\\mantention_labeler\\src\\schemas.py)"
     ]
    }
   ],
   "source": [
    "import os\n",
    "import json\n",
    "\n",
    "os.chdir('../')\n",
    "\n",
    "from src.orchestrator import excecute_labeler\n",
    "\n",
    "done_tuples = [\n",
    "    file for file in os.listdir('data/processed') if file.endswith('.xlsx')\n",
    "] if os.path.exists('data/processed') else []\n",
    "\n",
    "remain_tuples = [\n",
    "    (file.rsplit('_', 1)[-1].replace('.xlsx', '').split('-'))\n",
    "    for file in os.listdir('data/to_process') if (file.endswith('.xlsx') and file not in done_tuples)\n",
    "]\n",
    "\n",
    "# inverse the order on remaining tuples\n",
    "remain_tuples = remain_tuples[::-1]\n",
    "remain_tuples"
   ]
  },
  {
   "cell_type": "code",
   "execution_count": null,
   "id": "483ab848",
   "metadata": {},
   "outputs": [],
   "source": [
    "for tup in remain_tuples:\n",
    "    excecute_labeler(\n",
    "            tup[0],\n",
    "            tup[1],\n",
    "            )"
   ]
  }
 ],
 "metadata": {
  "kernelspec": {
   "display_name": ".venv",
   "language": "python",
   "name": "python3"
  },
  "language_info": {
   "codemirror_mode": {
    "name": "ipython",
    "version": 3
   },
   "file_extension": ".py",
   "mimetype": "text/x-python",
   "name": "python",
   "nbconvert_exporter": "python",
   "pygments_lexer": "ipython3",
   "version": "3.12.10"
  }
 },
 "nbformat": 4,
 "nbformat_minor": 5
}
