{
 "cells": [
  {
   "cell_type": "code",
   "execution_count": 1,
   "id": "dbb598e8",
   "metadata": {},
   "outputs": [],
   "source": [
    "# General imports\n",
    "import pandas as pd\n",
    "import os\n",
    "\n",
    "# Visualization libraries\n",
    "import seaborn as sns\n",
    "import matplotlib.pyplot as plt\n",
    "import plotly.express as px\n",
    "import plotly.graph_objects as go\n",
    "\n",
    "os.chdir('../')"
   ]
  },
  {
   "cell_type": "code",
   "execution_count": 2,
   "id": "cc7ec2b8",
   "metadata": {},
   "outputs": [
    {
     "data": {
      "text/html": [
       "<div>\n",
       "<style scoped>\n",
       "    .dataframe tbody tr th:only-of-type {\n",
       "        vertical-align: middle;\n",
       "    }\n",
       "\n",
       "    .dataframe tbody tr th {\n",
       "        vertical-align: top;\n",
       "    }\n",
       "\n",
       "    .dataframe thead th {\n",
       "        text-align: right;\n",
       "    }\n",
       "</style>\n",
       "<table border=\"1\" class=\"dataframe\">\n",
       "  <thead>\n",
       "    <tr style=\"text-align: right;\">\n",
       "      <th></th>\n",
       "      <th>Equipos</th>\n",
       "      <th>Horómetro</th>\n",
       "      <th>Fecha_Actual</th>\n",
       "      <th>Hora_de_Detención</th>\n",
       "      <th>Hora_de_Entrega</th>\n",
       "      <th>Tiempo_FS</th>\n",
       "      <th>Nro_Personas</th>\n",
       "      <th>Horas_Persona</th>\n",
       "      <th>Sistema</th>\n",
       "      <th>Sub_Sistemas</th>\n",
       "      <th>Tipo_de_Detención</th>\n",
       "      <th>Trabajo_Ejecutado</th>\n",
       "      <th>Nº_OT</th>\n",
       "      <th>Nº_Backlog</th>\n",
       "      <th>Status_Final</th>\n",
       "      <th>Trabajos_Pendientes</th>\n",
       "      <th>Jefe_de_Turno</th>\n",
       "      <th>Turnos</th>\n",
       "    </tr>\n",
       "  </thead>\n",
       "  <tbody>\n",
       "    <tr>\n",
       "      <th>0</th>\n",
       "      <td>T_09</td>\n",
       "      <td>76888</td>\n",
       "      <td>2020-01-01</td>\n",
       "      <td>08:20:00</td>\n",
       "      <td>12:55:00</td>\n",
       "      <td>4.58</td>\n",
       "      <td>2</td>\n",
       "      <td>9.16</td>\n",
       "      <td>T_Hidraulico</td>\n",
       "      <td>Mangueras</td>\n",
       "      <td>Falla</td>\n",
       "      <td>fuga hidráulica- equipo presenta fuga en mangu...</td>\n",
       "      <td>338740</td>\n",
       "      <td>NaN</td>\n",
       "      <td>Operativo</td>\n",
       "      <td>NaN</td>\n",
       "      <td>Victor Leon</td>\n",
       "      <td>Dia</td>\n",
       "    </tr>\n",
       "    <tr>\n",
       "      <th>1</th>\n",
       "      <td>T_09</td>\n",
       "      <td>76888</td>\n",
       "      <td>2020-01-02</td>\n",
       "      <td>08:20:00</td>\n",
       "      <td>12:55:00</td>\n",
       "      <td>4.58</td>\n",
       "      <td>2</td>\n",
       "      <td>9.16</td>\n",
       "      <td>T_Hidraulico</td>\n",
       "      <td>Mangueras</td>\n",
       "      <td>Falla</td>\n",
       "      <td>fuga hidráulica- equipo presenta fuga en mangu...</td>\n",
       "      <td>338740</td>\n",
       "      <td>NaN</td>\n",
       "      <td>Operativo</td>\n",
       "      <td>NaN</td>\n",
       "      <td>Hernán Veliz</td>\n",
       "      <td>Dia</td>\n",
       "    </tr>\n",
       "    <tr>\n",
       "      <th>2</th>\n",
       "      <td>T_09</td>\n",
       "      <td>76890</td>\n",
       "      <td>2020-01-02</td>\n",
       "      <td>14:35:00</td>\n",
       "      <td>18:11:00</td>\n",
       "      <td>3.60</td>\n",
       "      <td>3</td>\n",
       "      <td>10.80</td>\n",
       "      <td>T_Electrico</td>\n",
       "      <td>Control</td>\n",
       "      <td>Falla</td>\n",
       "      <td>alarmas activas-  sistema freno- se eliminan a...</td>\n",
       "      <td>0</td>\n",
       "      <td>NaN</td>\n",
       "      <td>Operativo</td>\n",
       "      <td>NaN</td>\n",
       "      <td>Hernán Veliz</td>\n",
       "      <td>Dia</td>\n",
       "    </tr>\n",
       "    <tr>\n",
       "      <th>3</th>\n",
       "      <td>T_09</td>\n",
       "      <td>76891</td>\n",
       "      <td>2020-01-06</td>\n",
       "      <td>20:50:00</td>\n",
       "      <td>21:05:00</td>\n",
       "      <td>0.25</td>\n",
       "      <td>3</td>\n",
       "      <td>0.75</td>\n",
       "      <td>T_Neumaticos</td>\n",
       "      <td>Inspección</td>\n",
       "      <td>Stand-By</td>\n",
       "      <td>se realiza chequeo de neumáticos presiones, te...</td>\n",
       "      <td>0</td>\n",
       "      <td>NaN</td>\n",
       "      <td>Operativo</td>\n",
       "      <td>NaN</td>\n",
       "      <td>Cesar Nilo</td>\n",
       "      <td>Dia</td>\n",
       "    </tr>\n",
       "    <tr>\n",
       "      <th>4</th>\n",
       "      <td>T_09</td>\n",
       "      <td>76895</td>\n",
       "      <td>2020-01-07</td>\n",
       "      <td>09:00:00</td>\n",
       "      <td>11:25:00</td>\n",
       "      <td>2.42</td>\n",
       "      <td>0</td>\n",
       "      <td>0.00</td>\n",
       "      <td>T_Neumaticos</td>\n",
       "      <td>Posicion_3</td>\n",
       "      <td>Falla</td>\n",
       "      <td>operador informa por neumatico pos 3 en rojo. ...</td>\n",
       "      <td>0</td>\n",
       "      <td>NaN</td>\n",
       "      <td>Operativo</td>\n",
       "      <td>m/o varilla de nivel de grasa en mal estado</td>\n",
       "      <td>Patricio Cerda</td>\n",
       "      <td>Dia</td>\n",
       "    </tr>\n",
       "  </tbody>\n",
       "</table>\n",
       "</div>"
      ],
      "text/plain": [
       "  Equipos  Horómetro Fecha_Actual Hora_de_Detención Hora_de_Entrega  \\\n",
       "0    T_09      76888   2020-01-01          08:20:00        12:55:00   \n",
       "1    T_09      76888   2020-01-02          08:20:00        12:55:00   \n",
       "2    T_09      76890   2020-01-02          14:35:00        18:11:00   \n",
       "3    T_09      76891   2020-01-06          20:50:00        21:05:00   \n",
       "4    T_09      76895   2020-01-07          09:00:00        11:25:00   \n",
       "\n",
       "   Tiempo_FS  Nro_Personas  Horas_Persona       Sistema Sub_Sistemas  \\\n",
       "0       4.58             2           9.16  T_Hidraulico    Mangueras   \n",
       "1       4.58             2           9.16  T_Hidraulico    Mangueras   \n",
       "2       3.60             3          10.80   T_Electrico      Control   \n",
       "3       0.25             3           0.75  T_Neumaticos   Inspección   \n",
       "4       2.42             0           0.00  T_Neumaticos   Posicion_3   \n",
       "\n",
       "  Tipo_de_Detención                                  Trabajo_Ejecutado  \\\n",
       "0             Falla  fuga hidráulica- equipo presenta fuga en mangu...   \n",
       "1             Falla  fuga hidráulica- equipo presenta fuga en mangu...   \n",
       "2             Falla  alarmas activas-  sistema freno- se eliminan a...   \n",
       "3          Stand-By  se realiza chequeo de neumáticos presiones, te...   \n",
       "4             Falla  operador informa por neumatico pos 3 en rojo. ...   \n",
       "\n",
       "    Nº_OT Nº_Backlog Status_Final  \\\n",
       "0  338740        NaN    Operativo   \n",
       "1  338740        NaN    Operativo   \n",
       "2       0        NaN    Operativo   \n",
       "3       0        NaN    Operativo   \n",
       "4       0        NaN    Operativo   \n",
       "\n",
       "                           Trabajos_Pendientes   Jefe_de_Turno Turnos  \n",
       "0                                          NaN     Victor Leon    Dia  \n",
       "1                                          NaN    Hernán Veliz    Dia  \n",
       "2                                          NaN    Hernán Veliz    Dia  \n",
       "3                                          NaN      Cesar Nilo    Dia  \n",
       "4  m/o varilla de nivel de grasa en mal estado  Patricio Cerda    Dia  "
      ]
     },
     "execution_count": 2,
     "metadata": {},
     "output_type": "execute_result"
    }
   ],
   "source": [
    "df_general = pd.read_excel('data/raw/maintenance_data_raw.xlsx')\n",
    "\n",
    "df_general.head()"
   ]
  },
  {
   "cell_type": "code",
   "execution_count": 3,
   "id": "9c3fc6e5",
   "metadata": {},
   "outputs": [
    {
     "data": {
      "text/html": [
       "<div>\n",
       "<style scoped>\n",
       "    .dataframe tbody tr th:only-of-type {\n",
       "        vertical-align: middle;\n",
       "    }\n",
       "\n",
       "    .dataframe tbody tr th {\n",
       "        vertical-align: top;\n",
       "    }\n",
       "\n",
       "    .dataframe thead th {\n",
       "        text-align: right;\n",
       "    }\n",
       "</style>\n",
       "<table border=\"1\" class=\"dataframe\">\n",
       "  <thead>\n",
       "    <tr style=\"text-align: right;\">\n",
       "      <th></th>\n",
       "      <th>weekYear</th>\n",
       "      <th>Equipos</th>\n",
       "      <th>size</th>\n",
       "    </tr>\n",
       "  </thead>\n",
       "  <tbody>\n",
       "    <tr>\n",
       "      <th>0</th>\n",
       "      <td>2020-00</td>\n",
       "      <td>T_09</td>\n",
       "      <td>3</td>\n",
       "    </tr>\n",
       "    <tr>\n",
       "      <th>1</th>\n",
       "      <td>2020-00</td>\n",
       "      <td>T_11</td>\n",
       "      <td>7</td>\n",
       "    </tr>\n",
       "    <tr>\n",
       "      <th>2</th>\n",
       "      <td>2020-00</td>\n",
       "      <td>T_13</td>\n",
       "      <td>2</td>\n",
       "    </tr>\n",
       "    <tr>\n",
       "      <th>3</th>\n",
       "      <td>2020-00</td>\n",
       "      <td>T_14</td>\n",
       "      <td>2</td>\n",
       "    </tr>\n",
       "    <tr>\n",
       "      <th>4</th>\n",
       "      <td>2020-00</td>\n",
       "      <td>T_17</td>\n",
       "      <td>5</td>\n",
       "    </tr>\n",
       "  </tbody>\n",
       "</table>\n",
       "</div>"
      ],
      "text/plain": [
       "  weekYear Equipos  size\n",
       "0  2020-00    T_09     3\n",
       "1  2020-00    T_11     7\n",
       "2  2020-00    T_13     2\n",
       "3  2020-00    T_14     2\n",
       "4  2020-00    T_17     5"
      ]
     },
     "execution_count": 3,
     "metadata": {},
     "output_type": "execute_result"
    }
   ],
   "source": [
    "df_general.Fecha_Actual = pd.to_datetime(df_general.Fecha_Actual, format='%d/%m/%Y %H:%M:%S')\n",
    "\n",
    "df_general.loc[:, 'weekYear'] = df_general.Fecha_Actual.dt.strftime('%Y-%U')\n",
    "\n",
    "df_count = df_general.groupby(['weekYear', 'Equipos'], as_index=False).size()\n",
    "df_count.head()"
   ]
  },
  {
   "cell_type": "code",
   "execution_count": 4,
   "id": "a5cb57e4",
   "metadata": {},
   "outputs": [
    {
     "data": {
      "application/vnd.plotly.v1+json": {
       "config": {
        "plotlyServerURL": "https://plot.ly"
       },
       "data": [
        {
         "marker": {
          "color": "#636efa"
         },
         "text": {
          "bdata": "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",
          "dtype": "f8"
         },
         "textposition": "auto",
         "type": "bar",
         "x": [
          "2020-00",
          "2020-01",
          "2020-02",
          "2020-03",
          "2020-04",
          "2020-05",
          "2020-06",
          "2020-07",
          "2020-08",
          "2020-09",
          "2020-10",
          "2020-11",
          "2020-12",
          "2020-13",
          "2020-14",
          "2020-15",
          "2020-16",
          "2020-17",
          "2020-18",
          "2020-19",
          "2020-20",
          "2020-21",
          "2020-22",
          "2020-23",
          "2020-24",
          "2020-25",
          "2020-26",
          "2020-27",
          "2020-28",
          "2020-29",
          "2020-30",
          "2020-31",
          "2020-32",
          "2020-33",
          "2020-34",
          "2020-35",
          "2020-36",
          "2020-37",
          "2020-38",
          "2020-39",
          "2020-40",
          "2020-41",
          "2020-42",
          "2020-43",
          "2020-44",
          "2020-45",
          "2020-46",
          "2020-47",
          "2020-48",
          "2020-49",
          "2020-50",
          "2020-51",
          "2020-52",
          "2021-00",
          "2021-01",
          "2021-02",
          "2021-03",
          "2021-04",
          "2021-05",
          "2021-06",
          "2021-07",
          "2021-08",
          "2021-09",
          "2021-10",
          "2021-11",
          "2021-12",
          "2021-13",
          "2021-14",
          "2021-15",
          "2021-16",
          "2021-17",
          "2021-18",
          "2021-19",
          "2021-20",
          "2021-21",
          "2021-22",
          "2021-23",
          "2021-24",
          "2021-25",
          "2021-26",
          "2021-27",
          "2021-28",
          "2021-29",
          "2021-30",
          "2021-31",
          "2021-32",
          "2021-33",
          "2021-34",
          "2021-35",
          "2021-36",
          "2021-37",
          "2021-38",
          "2021-39",
          "2021-40",
          "2021-41",
          "2021-42",
          "2021-43",
          "2021-44",
          "2021-45",
          "2021-46",
          "2021-47",
          "2021-48",
          "2021-49",
          "2021-50",
          "2021-51",
          "2021-52",
          "2022-00",
          "2022-01",
          "2022-02",
          "2022-03",
          "2022-04",
          "2022-05",
          "2022-06",
          "2022-07",
          "2022-08",
          "2022-09",
          "2022-10",
          "2022-11",
          "2022-12",
          "2022-13",
          "2022-14",
          "2022-15",
          "2022-16",
          "2022-17",
          "2022-18",
          "2022-19",
          "2022-20",
          "2022-21",
          "2022-22",
          "2022-23",
          "2022-24",
          "2022-25",
          "2022-26",
          "2022-27",
          "2022-28",
          "2022-29",
          "2022-30",
          "2022-31",
          "2022-32",
          "2022-33",
          "2022-34",
          "2022-35",
          "2022-36",
          "2022-37",
          "2022-38",
          "2022-39",
          "2022-40",
          "2022-41",
          "2022-42",
          "2022-43",
          "2022-44",
          "2022-45",
          "2022-46",
          "2022-47",
          "2022-48",
          "2022-49",
          "2022-50",
          "2022-51",
          "2022-52",
          "2023-01",
          "2023-02",
          "2023-03",
          "2023-04",
          "2023-05",
          "2023-06",
          "2023-07",
          "2023-08",
          "2023-09",
          "2023-10",
          "2023-11",
          "2023-12",
          "2023-13",
          "2023-14",
          "2023-15",
          "2023-16",
          "2023-17",
          "2023-18",
          "2023-19",
          "2023-20",
          "2023-21",
          "2023-22",
          "2023-23",
          "2023-24",
          "2023-25",
          "2023-26",
          "2023-27",
          "2023-28",
          "2023-29",
          "2023-30",
          "2023-31",
          "2023-32",
          "2023-33",
          "2023-34",
          "2023-35",
          "2023-36",
          "2023-37",
          "2023-38",
          "2023-39",
          "2023-40",
          "2023-41",
          "2023-42",
          "2023-43",
          "2023-44",
          "2023-45",
          "2023-46",
          "2023-47",
          "2023-48",
          "2023-49",
          "2023-50",
          "2023-51",
          "2023-52",
          "2023-53",
          "2024-00",
          "2024-01",
          "2024-02",
          "2024-03",
          "2024-04",
          "2024-05",
          "2024-06",
          "2024-07",
          "2024-08",
          "2024-09",
          "2024-10",
          "2024-11",
          "2024-12",
          "2024-13",
          "2024-14",
          "2024-15",
          "2024-16",
          "2024-17",
          "2024-18",
          "2024-19",
          "2024-20",
          "2024-21",
          "2024-22",
          "2024-23",
          "2024-24",
          "2024-25",
          "2024-26",
          "2024-27",
          "2024-28",
          "2024-29",
          "2024-30",
          "2024-31",
          "2024-32",
          "2024-33",
          "2024-34",
          "2024-35",
          "2024-36",
          "2024-37",
          "2024-38",
          "2024-39",
          "2024-40",
          "2024-41",
          "2024-42",
          "2024-43",
          "2024-44",
          "2024-45",
          "2024-46",
          "2024-47",
          "2024-48",
          "2024-49",
          "2024-50",
          "2024-51",
          "2024-52",
          "2025-00",
          "2025-01",
          "2025-02",
          "2025-03",
          "2025-04",
          "2025-05",
          "2025-06",
          "2025-07",
          "2025-08",
          "2025-09",
          "2025-10",
          "2025-11",
          "2025-12",
          "2025-13",
          "2025-14",
          "2025-15",
          "2025-16",
          "2025-17",
          "2025-18",
          "2025-19",
          "2025-20",
          "2025-21",
          "2025-22",
          "2025-23",
          "2025-24",
          "2025-25",
          "2025-26",
          "2025-27",
          "2025-28",
          "2025-29"
         ],
         "y": {
          "bdata": "FCcoIzM3MC8tPzY3LjAuIxYuJy0yKTQ1Oz46MytFRjpEQzcrKy0yPi0xMjYuMjYgMzpAOyAJKCw0JyssMCcvPigvLyIwMToxLTQzLyssNTAxMiIiIzAuMjExJTglNzE4ODIvKTdCPT9GMwlFRjgrMzc1OyoqNzA4PzA1OzdIREM0Qz1FN0YtQTFBNzNDTVE7Nzk0RDBDR0hEQUpAPEhFSkRAQU1CSj9ROD82UU5KWkhGUk5ZQUZXPzI+OTtVRk05PkVCS0xFPzNDSkU6Qj9JVEY3PQQ5STtBTT9HNzs5PktPUEhUQE87RjtES0VLSUNBUFVOSVRDZlpVaUJbUktIUlZRRVNYRzVEEyE+SFpSSlBZVkxbQ1M7RkNBRUZNUExbSk9OV0laCw==",
          "dtype": "i1"
         }
        }
       ],
       "layout": {
        "template": {
         "data": {
          "bar": [
           {
            "error_x": {
             "color": "#2a3f5f"
            },
            "error_y": {
             "color": "#2a3f5f"
            },
            "marker": {
             "line": {
              "color": "#E5ECF6",
              "width": 0.5
             },
             "pattern": {
              "fillmode": "overlay",
              "size": 10,
              "solidity": 0.2
             }
            },
            "type": "bar"
           }
          ],
          "barpolar": [
           {
            "marker": {
             "line": {
              "color": "#E5ECF6",
              "width": 0.5
             },
             "pattern": {
              "fillmode": "overlay",
              "size": 10,
              "solidity": 0.2
             }
            },
            "type": "barpolar"
           }
          ],
          "carpet": [
           {
            "aaxis": {
             "endlinecolor": "#2a3f5f",
             "gridcolor": "white",
             "linecolor": "white",
             "minorgridcolor": "white",
             "startlinecolor": "#2a3f5f"
            },
            "baxis": {
             "endlinecolor": "#2a3f5f",
             "gridcolor": "white",
             "linecolor": "white",
             "minorgridcolor": "white",
             "startlinecolor": "#2a3f5f"
            },
            "type": "carpet"
           }
          ],
          "choropleth": [
           {
            "colorbar": {
             "outlinewidth": 0,
             "ticks": ""
            },
            "type": "choropleth"
           }
          ],
          "contour": [
           {
            "colorbar": {
             "outlinewidth": 0,
             "ticks": ""
            },
            "colorscale": [
             [
              0,
              "#0d0887"
             ],
             [
              0.1111111111111111,
              "#46039f"
             ],
             [
              0.2222222222222222,
              "#7201a8"
             ],
             [
              0.3333333333333333,
              "#9c179e"
             ],
             [
              0.4444444444444444,
              "#bd3786"
             ],
             [
              0.5555555555555556,
              "#d8576b"
             ],
             [
              0.6666666666666666,
              "#ed7953"
             ],
             [
              0.7777777777777778,
              "#fb9f3a"
             ],
             [
              0.8888888888888888,
              "#fdca26"
             ],
             [
              1,
              "#f0f921"
             ]
            ],
            "type": "contour"
           }
          ],
          "contourcarpet": [
           {
            "colorbar": {
             "outlinewidth": 0,
             "ticks": ""
            },
            "type": "contourcarpet"
           }
          ],
          "heatmap": [
           {
            "colorbar": {
             "outlinewidth": 0,
             "ticks": ""
            },
            "colorscale": [
             [
              0,
              "#0d0887"
             ],
             [
              0.1111111111111111,
              "#46039f"
             ],
             [
              0.2222222222222222,
              "#7201a8"
             ],
             [
              0.3333333333333333,
              "#9c179e"
             ],
             [
              0.4444444444444444,
              "#bd3786"
             ],
             [
              0.5555555555555556,
              "#d8576b"
             ],
             [
              0.6666666666666666,
              "#ed7953"
             ],
             [
              0.7777777777777778,
              "#fb9f3a"
             ],
             [
              0.8888888888888888,
              "#fdca26"
             ],
             [
              1,
              "#f0f921"
             ]
            ],
            "type": "heatmap"
           }
          ],
          "histogram": [
           {
            "marker": {
             "pattern": {
              "fillmode": "overlay",
              "size": 10,
              "solidity": 0.2
             }
            },
            "type": "histogram"
           }
          ],
          "histogram2d": [
           {
            "colorbar": {
             "outlinewidth": 0,
             "ticks": ""
            },
            "colorscale": [
             [
              0,
              "#0d0887"
             ],
             [
              0.1111111111111111,
              "#46039f"
             ],
             [
              0.2222222222222222,
              "#7201a8"
             ],
             [
              0.3333333333333333,
              "#9c179e"
             ],
             [
              0.4444444444444444,
              "#bd3786"
             ],
             [
              0.5555555555555556,
              "#d8576b"
             ],
             [
              0.6666666666666666,
              "#ed7953"
             ],
             [
              0.7777777777777778,
              "#fb9f3a"
             ],
             [
              0.8888888888888888,
              "#fdca26"
             ],
             [
              1,
              "#f0f921"
             ]
            ],
            "type": "histogram2d"
           }
          ],
          "histogram2dcontour": [
           {
            "colorbar": {
             "outlinewidth": 0,
             "ticks": ""
            },
            "colorscale": [
             [
              0,
              "#0d0887"
             ],
             [
              0.1111111111111111,
              "#46039f"
             ],
             [
              0.2222222222222222,
              "#7201a8"
             ],
             [
              0.3333333333333333,
              "#9c179e"
             ],
             [
              0.4444444444444444,
              "#bd3786"
             ],
             [
              0.5555555555555556,
              "#d8576b"
             ],
             [
              0.6666666666666666,
              "#ed7953"
             ],
             [
              0.7777777777777778,
              "#fb9f3a"
             ],
             [
              0.8888888888888888,
              "#fdca26"
             ],
             [
              1,
              "#f0f921"
             ]
            ],
            "type": "histogram2dcontour"
           }
          ],
          "mesh3d": [
           {
            "colorbar": {
             "outlinewidth": 0,
             "ticks": ""
            },
            "type": "mesh3d"
           }
          ],
          "parcoords": [
           {
            "line": {
             "colorbar": {
              "outlinewidth": 0,
              "ticks": ""
             }
            },
            "type": "parcoords"
           }
          ],
          "pie": [
           {
            "automargin": true,
            "type": "pie"
           }
          ],
          "scatter": [
           {
            "fillpattern": {
             "fillmode": "overlay",
             "size": 10,
             "solidity": 0.2
            },
            "type": "scatter"
           }
          ],
          "scatter3d": [
           {
            "line": {
             "colorbar": {
              "outlinewidth": 0,
              "ticks": ""
             }
            },
            "marker": {
             "colorbar": {
              "outlinewidth": 0,
              "ticks": ""
             }
            },
            "type": "scatter3d"
           }
          ],
          "scattercarpet": [
           {
            "marker": {
             "colorbar": {
              "outlinewidth": 0,
              "ticks": ""
             }
            },
            "type": "scattercarpet"
           }
          ],
          "scattergeo": [
           {
            "marker": {
             "colorbar": {
              "outlinewidth": 0,
              "ticks": ""
             }
            },
            "type": "scattergeo"
           }
          ],
          "scattergl": [
           {
            "marker": {
             "colorbar": {
              "outlinewidth": 0,
              "ticks": ""
             }
            },
            "type": "scattergl"
           }
          ],
          "scattermap": [
           {
            "marker": {
             "colorbar": {
              "outlinewidth": 0,
              "ticks": ""
             }
            },
            "type": "scattermap"
           }
          ],
          "scattermapbox": [
           {
            "marker": {
             "colorbar": {
              "outlinewidth": 0,
              "ticks": ""
             }
            },
            "type": "scattermapbox"
           }
          ],
          "scatterpolar": [
           {
            "marker": {
             "colorbar": {
              "outlinewidth": 0,
              "ticks": ""
             }
            },
            "type": "scatterpolar"
           }
          ],
          "scatterpolargl": [
           {
            "marker": {
             "colorbar": {
              "outlinewidth": 0,
              "ticks": ""
             }
            },
            "type": "scatterpolargl"
           }
          ],
          "scatterternary": [
           {
            "marker": {
             "colorbar": {
              "outlinewidth": 0,
              "ticks": ""
             }
            },
            "type": "scatterternary"
           }
          ],
          "surface": [
           {
            "colorbar": {
             "outlinewidth": 0,
             "ticks": ""
            },
            "colorscale": [
             [
              0,
              "#0d0887"
             ],
             [
              0.1111111111111111,
              "#46039f"
             ],
             [
              0.2222222222222222,
              "#7201a8"
             ],
             [
              0.3333333333333333,
              "#9c179e"
             ],
             [
              0.4444444444444444,
              "#bd3786"
             ],
             [
              0.5555555555555556,
              "#d8576b"
             ],
             [
              0.6666666666666666,
              "#ed7953"
             ],
             [
              0.7777777777777778,
              "#fb9f3a"
             ],
             [
              0.8888888888888888,
              "#fdca26"
             ],
             [
              1,
              "#f0f921"
             ]
            ],
            "type": "surface"
           }
          ],
          "table": [
           {
            "cells": {
             "fill": {
              "color": "#EBF0F8"
             },
             "line": {
              "color": "white"
             }
            },
            "header": {
             "fill": {
              "color": "#C8D4E3"
             },
             "line": {
              "color": "white"
             }
            },
            "type": "table"
           }
          ]
         },
         "layout": {
          "annotationdefaults": {
           "arrowcolor": "#2a3f5f",
           "arrowhead": 0,
           "arrowwidth": 1
          },
          "autotypenumbers": "strict",
          "coloraxis": {
           "colorbar": {
            "outlinewidth": 0,
            "ticks": ""
           }
          },
          "colorscale": {
           "diverging": [
            [
             0,
             "#8e0152"
            ],
            [
             0.1,
             "#c51b7d"
            ],
            [
             0.2,
             "#de77ae"
            ],
            [
             0.3,
             "#f1b6da"
            ],
            [
             0.4,
             "#fde0ef"
            ],
            [
             0.5,
             "#f7f7f7"
            ],
            [
             0.6,
             "#e6f5d0"
            ],
            [
             0.7,
             "#b8e186"
            ],
            [
             0.8,
             "#7fbc41"
            ],
            [
             0.9,
             "#4d9221"
            ],
            [
             1,
             "#276419"
            ]
           ],
           "sequential": [
            [
             0,
             "#0d0887"
            ],
            [
             0.1111111111111111,
             "#46039f"
            ],
            [
             0.2222222222222222,
             "#7201a8"
            ],
            [
             0.3333333333333333,
             "#9c179e"
            ],
            [
             0.4444444444444444,
             "#bd3786"
            ],
            [
             0.5555555555555556,
             "#d8576b"
            ],
            [
             0.6666666666666666,
             "#ed7953"
            ],
            [
             0.7777777777777778,
             "#fb9f3a"
            ],
            [
             0.8888888888888888,
             "#fdca26"
            ],
            [
             1,
             "#f0f921"
            ]
           ],
           "sequentialminus": [
            [
             0,
             "#0d0887"
            ],
            [
             0.1111111111111111,
             "#46039f"
            ],
            [
             0.2222222222222222,
             "#7201a8"
            ],
            [
             0.3333333333333333,
             "#9c179e"
            ],
            [
             0.4444444444444444,
             "#bd3786"
            ],
            [
             0.5555555555555556,
             "#d8576b"
            ],
            [
             0.6666666666666666,
             "#ed7953"
            ],
            [
             0.7777777777777778,
             "#fb9f3a"
            ],
            [
             0.8888888888888888,
             "#fdca26"
            ],
            [
             1,
             "#f0f921"
            ]
           ]
          },
          "colorway": [
           "#636efa",
           "#EF553B",
           "#00cc96",
           "#ab63fa",
           "#FFA15A",
           "#19d3f3",
           "#FF6692",
           "#B6E880",
           "#FF97FF",
           "#FECB52"
          ],
          "font": {
           "color": "#2a3f5f"
          },
          "geo": {
           "bgcolor": "white",
           "lakecolor": "white",
           "landcolor": "#E5ECF6",
           "showlakes": true,
           "showland": true,
           "subunitcolor": "white"
          },
          "hoverlabel": {
           "align": "left"
          },
          "hovermode": "closest",
          "mapbox": {
           "style": "light"
          },
          "paper_bgcolor": "white",
          "plot_bgcolor": "#E5ECF6",
          "polar": {
           "angularaxis": {
            "gridcolor": "white",
            "linecolor": "white",
            "ticks": ""
           },
           "bgcolor": "#E5ECF6",
           "radialaxis": {
            "gridcolor": "white",
            "linecolor": "white",
            "ticks": ""
           }
          },
          "scene": {
           "xaxis": {
            "backgroundcolor": "#E5ECF6",
            "gridcolor": "white",
            "gridwidth": 2,
            "linecolor": "white",
            "showbackground": true,
            "ticks": "",
            "zerolinecolor": "white"
           },
           "yaxis": {
            "backgroundcolor": "#E5ECF6",
            "gridcolor": "white",
            "gridwidth": 2,
            "linecolor": "white",
            "showbackground": true,
            "ticks": "",
            "zerolinecolor": "white"
           },
           "zaxis": {
            "backgroundcolor": "#E5ECF6",
            "gridcolor": "white",
            "gridwidth": 2,
            "linecolor": "white",
            "showbackground": true,
            "ticks": "",
            "zerolinecolor": "white"
           }
          },
          "shapedefaults": {
           "line": {
            "color": "#2a3f5f"
           }
          },
          "ternary": {
           "aaxis": {
            "gridcolor": "white",
            "linecolor": "white",
            "ticks": ""
           },
           "baxis": {
            "gridcolor": "white",
            "linecolor": "white",
            "ticks": ""
           },
           "bgcolor": "#E5ECF6",
           "caxis": {
            "gridcolor": "white",
            "linecolor": "white",
            "ticks": ""
           }
          },
          "title": {
           "x": 0.05
          },
          "xaxis": {
           "automargin": true,
           "gridcolor": "white",
           "linecolor": "white",
           "ticks": "",
           "title": {
            "standoff": 15
           },
           "zerolinecolor": "white",
           "zerolinewidth": 2
          },
          "yaxis": {
           "automargin": true,
           "gridcolor": "white",
           "linecolor": "white",
           "ticks": "",
           "title": {
            "standoff": 15
           },
           "zerolinecolor": "white",
           "zerolinewidth": 2
          }
         }
        },
        "title": {
         "text": "Number of Maintenance Records per Week and Equipment"
        },
        "xaxis": {
         "tickangle": -45,
         "title": {
          "text": "Week Year"
         }
        },
        "yaxis": {
         "range": [
          0,
          105
         ],
         "title": {
          "text": "Number of Records"
         }
        }
       }
      }
     },
     "metadata": {},
     "output_type": "display_data"
    }
   ],
   "source": [
    "df_toplot = df_count.groupby(['weekYear'], as_index=False)['size'].sum()\n",
    "\n",
    "fig = go.Figure(\n",
    "    data=[\n",
    "        go.Bar(\n",
    "            x=df_toplot['weekYear'],\n",
    "            y=df_toplot['size'],\n",
    "            text=df_toplot['size'],\n",
    "            textposition='auto',\n",
    "            marker_color='#636efa'\n",
    "        )\n",
    "    ]\n",
    ")\n",
    "fig.update_layout(\n",
    "    title='Number of Maintenance Records per Week and Equipment',\n",
    "    xaxis_title='Week Year',\n",
    "    yaxis_title='Number of Records',\n",
    "    xaxis_tickangle=-45,\n",
    "    yaxis=dict(range=[0, df_toplot['size'].max()])\n",
    ")\n",
    "fig.show()"
   ]
  },
  {
   "cell_type": "code",
   "execution_count": 5,
   "id": "c459f02c",
   "metadata": {},
   "outputs": [
    {
     "data": {
      "application/vnd.plotly.v1+json": {
       "config": {
        "plotlyServerURL": "https://plot.ly"
       },
       "data": [
        {
         "marker": {
          "color": "#636efa"
         },
         "text": {
          "bdata": "AAAAAADEn0AAAAAAAJybQAAAAAAATJ5AAAAAAABwnUAAAAAAADifQAAAAAAAzJ5AAAAAAAASoUAAAAAAAPSYQAAAAAAA6J5AAAAAAADggUA=",
          "dtype": "f8"
         },
         "textposition": "auto",
         "type": "bar",
         "x": [
          "T_09",
          "T_11",
          "T_12",
          "T_13",
          "T_14",
          "T_15",
          "T_16",
          "T_17",
          "T_18",
          "T_24"
         ],
         "y": {
          "bdata": "8QfnBpMHXAfOB7MHiQg9BroHPAI=",
          "dtype": "i2"
         }
        }
       ],
       "layout": {
        "template": {
         "data": {
          "bar": [
           {
            "error_x": {
             "color": "#2a3f5f"
            },
            "error_y": {
             "color": "#2a3f5f"
            },
            "marker": {
             "line": {
              "color": "#E5ECF6",
              "width": 0.5
             },
             "pattern": {
              "fillmode": "overlay",
              "size": 10,
              "solidity": 0.2
             }
            },
            "type": "bar"
           }
          ],
          "barpolar": [
           {
            "marker": {
             "line": {
              "color": "#E5ECF6",
              "width": 0.5
             },
             "pattern": {
              "fillmode": "overlay",
              "size": 10,
              "solidity": 0.2
             }
            },
            "type": "barpolar"
           }
          ],
          "carpet": [
           {
            "aaxis": {
             "endlinecolor": "#2a3f5f",
             "gridcolor": "white",
             "linecolor": "white",
             "minorgridcolor": "white",
             "startlinecolor": "#2a3f5f"
            },
            "baxis": {
             "endlinecolor": "#2a3f5f",
             "gridcolor": "white",
             "linecolor": "white",
             "minorgridcolor": "white",
             "startlinecolor": "#2a3f5f"
            },
            "type": "carpet"
           }
          ],
          "choropleth": [
           {
            "colorbar": {
             "outlinewidth": 0,
             "ticks": ""
            },
            "type": "choropleth"
           }
          ],
          "contour": [
           {
            "colorbar": {
             "outlinewidth": 0,
             "ticks": ""
            },
            "colorscale": [
             [
              0,
              "#0d0887"
             ],
             [
              0.1111111111111111,
              "#46039f"
             ],
             [
              0.2222222222222222,
              "#7201a8"
             ],
             [
              0.3333333333333333,
              "#9c179e"
             ],
             [
              0.4444444444444444,
              "#bd3786"
             ],
             [
              0.5555555555555556,
              "#d8576b"
             ],
             [
              0.6666666666666666,
              "#ed7953"
             ],
             [
              0.7777777777777778,
              "#fb9f3a"
             ],
             [
              0.8888888888888888,
              "#fdca26"
             ],
             [
              1,
              "#f0f921"
             ]
            ],
            "type": "contour"
           }
          ],
          "contourcarpet": [
           {
            "colorbar": {
             "outlinewidth": 0,
             "ticks": ""
            },
            "type": "contourcarpet"
           }
          ],
          "heatmap": [
           {
            "colorbar": {
             "outlinewidth": 0,
             "ticks": ""
            },
            "colorscale": [
             [
              0,
              "#0d0887"
             ],
             [
              0.1111111111111111,
              "#46039f"
             ],
             [
              0.2222222222222222,
              "#7201a8"
             ],
             [
              0.3333333333333333,
              "#9c179e"
             ],
             [
              0.4444444444444444,
              "#bd3786"
             ],
             [
              0.5555555555555556,
              "#d8576b"
             ],
             [
              0.6666666666666666,
              "#ed7953"
             ],
             [
              0.7777777777777778,
              "#fb9f3a"
             ],
             [
              0.8888888888888888,
              "#fdca26"
             ],
             [
              1,
              "#f0f921"
             ]
            ],
            "type": "heatmap"
           }
          ],
          "histogram": [
           {
            "marker": {
             "pattern": {
              "fillmode": "overlay",
              "size": 10,
              "solidity": 0.2
             }
            },
            "type": "histogram"
           }
          ],
          "histogram2d": [
           {
            "colorbar": {
             "outlinewidth": 0,
             "ticks": ""
            },
            "colorscale": [
             [
              0,
              "#0d0887"
             ],
             [
              0.1111111111111111,
              "#46039f"
             ],
             [
              0.2222222222222222,
              "#7201a8"
             ],
             [
              0.3333333333333333,
              "#9c179e"
             ],
             [
              0.4444444444444444,
              "#bd3786"
             ],
             [
              0.5555555555555556,
              "#d8576b"
             ],
             [
              0.6666666666666666,
              "#ed7953"
             ],
             [
              0.7777777777777778,
              "#fb9f3a"
             ],
             [
              0.8888888888888888,
              "#fdca26"
             ],
             [
              1,
              "#f0f921"
             ]
            ],
            "type": "histogram2d"
           }
          ],
          "histogram2dcontour": [
           {
            "colorbar": {
             "outlinewidth": 0,
             "ticks": ""
            },
            "colorscale": [
             [
              0,
              "#0d0887"
             ],
             [
              0.1111111111111111,
              "#46039f"
             ],
             [
              0.2222222222222222,
              "#7201a8"
             ],
             [
              0.3333333333333333,
              "#9c179e"
             ],
             [
              0.4444444444444444,
              "#bd3786"
             ],
             [
              0.5555555555555556,
              "#d8576b"
             ],
             [
              0.6666666666666666,
              "#ed7953"
             ],
             [
              0.7777777777777778,
              "#fb9f3a"
             ],
             [
              0.8888888888888888,
              "#fdca26"
             ],
             [
              1,
              "#f0f921"
             ]
            ],
            "type": "histogram2dcontour"
           }
          ],
          "mesh3d": [
           {
            "colorbar": {
             "outlinewidth": 0,
             "ticks": ""
            },
            "type": "mesh3d"
           }
          ],
          "parcoords": [
           {
            "line": {
             "colorbar": {
              "outlinewidth": 0,
              "ticks": ""
             }
            },
            "type": "parcoords"
           }
          ],
          "pie": [
           {
            "automargin": true,
            "type": "pie"
           }
          ],
          "scatter": [
           {
            "fillpattern": {
             "fillmode": "overlay",
             "size": 10,
             "solidity": 0.2
            },
            "type": "scatter"
           }
          ],
          "scatter3d": [
           {
            "line": {
             "colorbar": {
              "outlinewidth": 0,
              "ticks": ""
             }
            },
            "marker": {
             "colorbar": {
              "outlinewidth": 0,
              "ticks": ""
             }
            },
            "type": "scatter3d"
           }
          ],
          "scattercarpet": [
           {
            "marker": {
             "colorbar": {
              "outlinewidth": 0,
              "ticks": ""
             }
            },
            "type": "scattercarpet"
           }
          ],
          "scattergeo": [
           {
            "marker": {
             "colorbar": {
              "outlinewidth": 0,
              "ticks": ""
             }
            },
            "type": "scattergeo"
           }
          ],
          "scattergl": [
           {
            "marker": {
             "colorbar": {
              "outlinewidth": 0,
              "ticks": ""
             }
            },
            "type": "scattergl"
           }
          ],
          "scattermap": [
           {
            "marker": {
             "colorbar": {
              "outlinewidth": 0,
              "ticks": ""
             }
            },
            "type": "scattermap"
           }
          ],
          "scattermapbox": [
           {
            "marker": {
             "colorbar": {
              "outlinewidth": 0,
              "ticks": ""
             }
            },
            "type": "scattermapbox"
           }
          ],
          "scatterpolar": [
           {
            "marker": {
             "colorbar": {
              "outlinewidth": 0,
              "ticks": ""
             }
            },
            "type": "scatterpolar"
           }
          ],
          "scatterpolargl": [
           {
            "marker": {
             "colorbar": {
              "outlinewidth": 0,
              "ticks": ""
             }
            },
            "type": "scatterpolargl"
           }
          ],
          "scatterternary": [
           {
            "marker": {
             "colorbar": {
              "outlinewidth": 0,
              "ticks": ""
             }
            },
            "type": "scatterternary"
           }
          ],
          "surface": [
           {
            "colorbar": {
             "outlinewidth": 0,
             "ticks": ""
            },
            "colorscale": [
             [
              0,
              "#0d0887"
             ],
             [
              0.1111111111111111,
              "#46039f"
             ],
             [
              0.2222222222222222,
              "#7201a8"
             ],
             [
              0.3333333333333333,
              "#9c179e"
             ],
             [
              0.4444444444444444,
              "#bd3786"
             ],
             [
              0.5555555555555556,
              "#d8576b"
             ],
             [
              0.6666666666666666,
              "#ed7953"
             ],
             [
              0.7777777777777778,
              "#fb9f3a"
             ],
             [
              0.8888888888888888,
              "#fdca26"
             ],
             [
              1,
              "#f0f921"
             ]
            ],
            "type": "surface"
           }
          ],
          "table": [
           {
            "cells": {
             "fill": {
              "color": "#EBF0F8"
             },
             "line": {
              "color": "white"
             }
            },
            "header": {
             "fill": {
              "color": "#C8D4E3"
             },
             "line": {
              "color": "white"
             }
            },
            "type": "table"
           }
          ]
         },
         "layout": {
          "annotationdefaults": {
           "arrowcolor": "#2a3f5f",
           "arrowhead": 0,
           "arrowwidth": 1
          },
          "autotypenumbers": "strict",
          "coloraxis": {
           "colorbar": {
            "outlinewidth": 0,
            "ticks": ""
           }
          },
          "colorscale": {
           "diverging": [
            [
             0,
             "#8e0152"
            ],
            [
             0.1,
             "#c51b7d"
            ],
            [
             0.2,
             "#de77ae"
            ],
            [
             0.3,
             "#f1b6da"
            ],
            [
             0.4,
             "#fde0ef"
            ],
            [
             0.5,
             "#f7f7f7"
            ],
            [
             0.6,
             "#e6f5d0"
            ],
            [
             0.7,
             "#b8e186"
            ],
            [
             0.8,
             "#7fbc41"
            ],
            [
             0.9,
             "#4d9221"
            ],
            [
             1,
             "#276419"
            ]
           ],
           "sequential": [
            [
             0,
             "#0d0887"
            ],
            [
             0.1111111111111111,
             "#46039f"
            ],
            [
             0.2222222222222222,
             "#7201a8"
            ],
            [
             0.3333333333333333,
             "#9c179e"
            ],
            [
             0.4444444444444444,
             "#bd3786"
            ],
            [
             0.5555555555555556,
             "#d8576b"
            ],
            [
             0.6666666666666666,
             "#ed7953"
            ],
            [
             0.7777777777777778,
             "#fb9f3a"
            ],
            [
             0.8888888888888888,
             "#fdca26"
            ],
            [
             1,
             "#f0f921"
            ]
           ],
           "sequentialminus": [
            [
             0,
             "#0d0887"
            ],
            [
             0.1111111111111111,
             "#46039f"
            ],
            [
             0.2222222222222222,
             "#7201a8"
            ],
            [
             0.3333333333333333,
             "#9c179e"
            ],
            [
             0.4444444444444444,
             "#bd3786"
            ],
            [
             0.5555555555555556,
             "#d8576b"
            ],
            [
             0.6666666666666666,
             "#ed7953"
            ],
            [
             0.7777777777777778,
             "#fb9f3a"
            ],
            [
             0.8888888888888888,
             "#fdca26"
            ],
            [
             1,
             "#f0f921"
            ]
           ]
          },
          "colorway": [
           "#636efa",
           "#EF553B",
           "#00cc96",
           "#ab63fa",
           "#FFA15A",
           "#19d3f3",
           "#FF6692",
           "#B6E880",
           "#FF97FF",
           "#FECB52"
          ],
          "font": {
           "color": "#2a3f5f"
          },
          "geo": {
           "bgcolor": "white",
           "lakecolor": "white",
           "landcolor": "#E5ECF6",
           "showlakes": true,
           "showland": true,
           "subunitcolor": "white"
          },
          "hoverlabel": {
           "align": "left"
          },
          "hovermode": "closest",
          "mapbox": {
           "style": "light"
          },
          "paper_bgcolor": "white",
          "plot_bgcolor": "#E5ECF6",
          "polar": {
           "angularaxis": {
            "gridcolor": "white",
            "linecolor": "white",
            "ticks": ""
           },
           "bgcolor": "#E5ECF6",
           "radialaxis": {
            "gridcolor": "white",
            "linecolor": "white",
            "ticks": ""
           }
          },
          "scene": {
           "xaxis": {
            "backgroundcolor": "#E5ECF6",
            "gridcolor": "white",
            "gridwidth": 2,
            "linecolor": "white",
            "showbackground": true,
            "ticks": "",
            "zerolinecolor": "white"
           },
           "yaxis": {
            "backgroundcolor": "#E5ECF6",
            "gridcolor": "white",
            "gridwidth": 2,
            "linecolor": "white",
            "showbackground": true,
            "ticks": "",
            "zerolinecolor": "white"
           },
           "zaxis": {
            "backgroundcolor": "#E5ECF6",
            "gridcolor": "white",
            "gridwidth": 2,
            "linecolor": "white",
            "showbackground": true,
            "ticks": "",
            "zerolinecolor": "white"
           }
          },
          "shapedefaults": {
           "line": {
            "color": "#2a3f5f"
           }
          },
          "ternary": {
           "aaxis": {
            "gridcolor": "white",
            "linecolor": "white",
            "ticks": ""
           },
           "baxis": {
            "gridcolor": "white",
            "linecolor": "white",
            "ticks": ""
           },
           "bgcolor": "#E5ECF6",
           "caxis": {
            "gridcolor": "white",
            "linecolor": "white",
            "ticks": ""
           }
          },
          "title": {
           "x": 0.05
          },
          "xaxis": {
           "automargin": true,
           "gridcolor": "white",
           "linecolor": "white",
           "ticks": "",
           "title": {
            "standoff": 15
           },
           "zerolinecolor": "white",
           "zerolinewidth": 2
          },
          "yaxis": {
           "automargin": true,
           "gridcolor": "white",
           "linecolor": "white",
           "ticks": "",
           "title": {
            "standoff": 15
           },
           "zerolinecolor": "white",
           "zerolinewidth": 2
          }
         }
        },
        "title": {
         "text": "Number of Maintenance Records per Week and Equipo"
        },
        "xaxis": {
         "tickangle": -45,
         "title": {
          "text": "Equipo"
         }
        },
        "yaxis": {
         "range": [
          0,
          2185
         ],
         "title": {
          "text": "Number of Records"
         }
        }
       }
      }
     },
     "metadata": {},
     "output_type": "display_data"
    }
   ],
   "source": [
    "df_toplot = df_count.groupby(['Equipos'], as_index=False)['size'].sum()\n",
    "\n",
    "fig = go.Figure(\n",
    "    data=[\n",
    "        go.Bar(\n",
    "            x=df_toplot['Equipos'],\n",
    "            y=df_toplot['size'],\n",
    "            text=df_toplot['size'],\n",
    "            textposition='auto',\n",
    "            marker_color='#636efa'\n",
    "        )\n",
    "    ]\n",
    ")\n",
    "fig.update_layout(\n",
    "    title='Number of Maintenance Records per Week and Equipo',\n",
    "    xaxis_title='Equipo',\n",
    "    yaxis_title='Number of Records',\n",
    "    xaxis_tickangle=-45,\n",
    "    yaxis=dict(range=[0, df_toplot['size'].max()])\n",
    ")\n",
    "fig.show()"
   ]
  },
  {
   "cell_type": "code",
   "execution_count": 6,
   "id": "ef4992cf",
   "metadata": {},
   "outputs": [
    {
     "data": {
      "application/vnd.plotly.v1+json": {
       "config": {
        "plotlyServerURL": "https://plot.ly"
       },
       "data": [
        {
         "colorbar": {
          "title": {
           "text": "Number of Records"
          }
         },
         "colorscale": [
          [
           0,
           "rgb(0,0,255)"
          ],
          [
           1,
           "rgb(255,0,0)"
          ]
         ],
         "type": "heatmap",
         "x": [
          "2020Q1",
          "2020Q2",
          "2020Q3",
          "2020Q4",
          "2021Q1",
          "2021Q2",
          "2021Q3",
          "2021Q4",
          "2022Q1",
          "2022Q2",
          "2022Q3",
          "2022Q4",
          "2023Q1",
          "2023Q2",
          "2023Q3",
          "2023Q4",
          "2024Q1",
          "2024Q2",
          "2024Q3",
          "2024Q4",
          "2025Q1",
          "2025Q2",
          "2025Q3"
         ],
         "y": [
          "T_09",
          "T_11",
          "T_12",
          "T_13",
          "T_14",
          "T_15",
          "T_16",
          "T_17",
          "T_18",
          "T_24"
         ],
         "z": {
          "bdata": "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",
          "dtype": "f8",
          "shape": "10, 23"
         }
        }
       ],
       "layout": {
        "template": {
         "data": {
          "bar": [
           {
            "error_x": {
             "color": "#2a3f5f"
            },
            "error_y": {
             "color": "#2a3f5f"
            },
            "marker": {
             "line": {
              "color": "#E5ECF6",
              "width": 0.5
             },
             "pattern": {
              "fillmode": "overlay",
              "size": 10,
              "solidity": 0.2
             }
            },
            "type": "bar"
           }
          ],
          "barpolar": [
           {
            "marker": {
             "line": {
              "color": "#E5ECF6",
              "width": 0.5
             },
             "pattern": {
              "fillmode": "overlay",
              "size": 10,
              "solidity": 0.2
             }
            },
            "type": "barpolar"
           }
          ],
          "carpet": [
           {
            "aaxis": {
             "endlinecolor": "#2a3f5f",
             "gridcolor": "white",
             "linecolor": "white",
             "minorgridcolor": "white",
             "startlinecolor": "#2a3f5f"
            },
            "baxis": {
             "endlinecolor": "#2a3f5f",
             "gridcolor": "white",
             "linecolor": "white",
             "minorgridcolor": "white",
             "startlinecolor": "#2a3f5f"
            },
            "type": "carpet"
           }
          ],
          "choropleth": [
           {
            "colorbar": {
             "outlinewidth": 0,
             "ticks": ""
            },
            "type": "choropleth"
           }
          ],
          "contour": [
           {
            "colorbar": {
             "outlinewidth": 0,
             "ticks": ""
            },
            "colorscale": [
             [
              0,
              "#0d0887"
             ],
             [
              0.1111111111111111,
              "#46039f"
             ],
             [
              0.2222222222222222,
              "#7201a8"
             ],
             [
              0.3333333333333333,
              "#9c179e"
             ],
             [
              0.4444444444444444,
              "#bd3786"
             ],
             [
              0.5555555555555556,
              "#d8576b"
             ],
             [
              0.6666666666666666,
              "#ed7953"
             ],
             [
              0.7777777777777778,
              "#fb9f3a"
             ],
             [
              0.8888888888888888,
              "#fdca26"
             ],
             [
              1,
              "#f0f921"
             ]
            ],
            "type": "contour"
           }
          ],
          "contourcarpet": [
           {
            "colorbar": {
             "outlinewidth": 0,
             "ticks": ""
            },
            "type": "contourcarpet"
           }
          ],
          "heatmap": [
           {
            "colorbar": {
             "outlinewidth": 0,
             "ticks": ""
            },
            "colorscale": [
             [
              0,
              "#0d0887"
             ],
             [
              0.1111111111111111,
              "#46039f"
             ],
             [
              0.2222222222222222,
              "#7201a8"
             ],
             [
              0.3333333333333333,
              "#9c179e"
             ],
             [
              0.4444444444444444,
              "#bd3786"
             ],
             [
              0.5555555555555556,
              "#d8576b"
             ],
             [
              0.6666666666666666,
              "#ed7953"
             ],
             [
              0.7777777777777778,
              "#fb9f3a"
             ],
             [
              0.8888888888888888,
              "#fdca26"
             ],
             [
              1,
              "#f0f921"
             ]
            ],
            "type": "heatmap"
           }
          ],
          "histogram": [
           {
            "marker": {
             "pattern": {
              "fillmode": "overlay",
              "size": 10,
              "solidity": 0.2
             }
            },
            "type": "histogram"
           }
          ],
          "histogram2d": [
           {
            "colorbar": {
             "outlinewidth": 0,
             "ticks": ""
            },
            "colorscale": [
             [
              0,
              "#0d0887"
             ],
             [
              0.1111111111111111,
              "#46039f"
             ],
             [
              0.2222222222222222,
              "#7201a8"
             ],
             [
              0.3333333333333333,
              "#9c179e"
             ],
             [
              0.4444444444444444,
              "#bd3786"
             ],
             [
              0.5555555555555556,
              "#d8576b"
             ],
             [
              0.6666666666666666,
              "#ed7953"
             ],
             [
              0.7777777777777778,
              "#fb9f3a"
             ],
             [
              0.8888888888888888,
              "#fdca26"
             ],
             [
              1,
              "#f0f921"
             ]
            ],
            "type": "histogram2d"
           }
          ],
          "histogram2dcontour": [
           {
            "colorbar": {
             "outlinewidth": 0,
             "ticks": ""
            },
            "colorscale": [
             [
              0,
              "#0d0887"
             ],
             [
              0.1111111111111111,
              "#46039f"
             ],
             [
              0.2222222222222222,
              "#7201a8"
             ],
             [
              0.3333333333333333,
              "#9c179e"
             ],
             [
              0.4444444444444444,
              "#bd3786"
             ],
             [
              0.5555555555555556,
              "#d8576b"
             ],
             [
              0.6666666666666666,
              "#ed7953"
             ],
             [
              0.7777777777777778,
              "#fb9f3a"
             ],
             [
              0.8888888888888888,
              "#fdca26"
             ],
             [
              1,
              "#f0f921"
             ]
            ],
            "type": "histogram2dcontour"
           }
          ],
          "mesh3d": [
           {
            "colorbar": {
             "outlinewidth": 0,
             "ticks": ""
            },
            "type": "mesh3d"
           }
          ],
          "parcoords": [
           {
            "line": {
             "colorbar": {
              "outlinewidth": 0,
              "ticks": ""
             }
            },
            "type": "parcoords"
           }
          ],
          "pie": [
           {
            "automargin": true,
            "type": "pie"
           }
          ],
          "scatter": [
           {
            "fillpattern": {
             "fillmode": "overlay",
             "size": 10,
             "solidity": 0.2
            },
            "type": "scatter"
           }
          ],
          "scatter3d": [
           {
            "line": {
             "colorbar": {
              "outlinewidth": 0,
              "ticks": ""
             }
            },
            "marker": {
             "colorbar": {
              "outlinewidth": 0,
              "ticks": ""
             }
            },
            "type": "scatter3d"
           }
          ],
          "scattercarpet": [
           {
            "marker": {
             "colorbar": {
              "outlinewidth": 0,
              "ticks": ""
             }
            },
            "type": "scattercarpet"
           }
          ],
          "scattergeo": [
           {
            "marker": {
             "colorbar": {
              "outlinewidth": 0,
              "ticks": ""
             }
            },
            "type": "scattergeo"
           }
          ],
          "scattergl": [
           {
            "marker": {
             "colorbar": {
              "outlinewidth": 0,
              "ticks": ""
             }
            },
            "type": "scattergl"
           }
          ],
          "scattermap": [
           {
            "marker": {
             "colorbar": {
              "outlinewidth": 0,
              "ticks": ""
             }
            },
            "type": "scattermap"
           }
          ],
          "scattermapbox": [
           {
            "marker": {
             "colorbar": {
              "outlinewidth": 0,
              "ticks": ""
             }
            },
            "type": "scattermapbox"
           }
          ],
          "scatterpolar": [
           {
            "marker": {
             "colorbar": {
              "outlinewidth": 0,
              "ticks": ""
             }
            },
            "type": "scatterpolar"
           }
          ],
          "scatterpolargl": [
           {
            "marker": {
             "colorbar": {
              "outlinewidth": 0,
              "ticks": ""
             }
            },
            "type": "scatterpolargl"
           }
          ],
          "scatterternary": [
           {
            "marker": {
             "colorbar": {
              "outlinewidth": 0,
              "ticks": ""
             }
            },
            "type": "scatterternary"
           }
          ],
          "surface": [
           {
            "colorbar": {
             "outlinewidth": 0,
             "ticks": ""
            },
            "colorscale": [
             [
              0,
              "#0d0887"
             ],
             [
              0.1111111111111111,
              "#46039f"
             ],
             [
              0.2222222222222222,
              "#7201a8"
             ],
             [
              0.3333333333333333,
              "#9c179e"
             ],
             [
              0.4444444444444444,
              "#bd3786"
             ],
             [
              0.5555555555555556,
              "#d8576b"
             ],
             [
              0.6666666666666666,
              "#ed7953"
             ],
             [
              0.7777777777777778,
              "#fb9f3a"
             ],
             [
              0.8888888888888888,
              "#fdca26"
             ],
             [
              1,
              "#f0f921"
             ]
            ],
            "type": "surface"
           }
          ],
          "table": [
           {
            "cells": {
             "fill": {
              "color": "#EBF0F8"
             },
             "line": {
              "color": "white"
             }
            },
            "header": {
             "fill": {
              "color": "#C8D4E3"
             },
             "line": {
              "color": "white"
             }
            },
            "type": "table"
           }
          ]
         },
         "layout": {
          "annotationdefaults": {
           "arrowcolor": "#2a3f5f",
           "arrowhead": 0,
           "arrowwidth": 1
          },
          "autotypenumbers": "strict",
          "coloraxis": {
           "colorbar": {
            "outlinewidth": 0,
            "ticks": ""
           }
          },
          "colorscale": {
           "diverging": [
            [
             0,
             "#8e0152"
            ],
            [
             0.1,
             "#c51b7d"
            ],
            [
             0.2,
             "#de77ae"
            ],
            [
             0.3,
             "#f1b6da"
            ],
            [
             0.4,
             "#fde0ef"
            ],
            [
             0.5,
             "#f7f7f7"
            ],
            [
             0.6,
             "#e6f5d0"
            ],
            [
             0.7,
             "#b8e186"
            ],
            [
             0.8,
             "#7fbc41"
            ],
            [
             0.9,
             "#4d9221"
            ],
            [
             1,
             "#276419"
            ]
           ],
           "sequential": [
            [
             0,
             "#0d0887"
            ],
            [
             0.1111111111111111,
             "#46039f"
            ],
            [
             0.2222222222222222,
             "#7201a8"
            ],
            [
             0.3333333333333333,
             "#9c179e"
            ],
            [
             0.4444444444444444,
             "#bd3786"
            ],
            [
             0.5555555555555556,
             "#d8576b"
            ],
            [
             0.6666666666666666,
             "#ed7953"
            ],
            [
             0.7777777777777778,
             "#fb9f3a"
            ],
            [
             0.8888888888888888,
             "#fdca26"
            ],
            [
             1,
             "#f0f921"
            ]
           ],
           "sequentialminus": [
            [
             0,
             "#0d0887"
            ],
            [
             0.1111111111111111,
             "#46039f"
            ],
            [
             0.2222222222222222,
             "#7201a8"
            ],
            [
             0.3333333333333333,
             "#9c179e"
            ],
            [
             0.4444444444444444,
             "#bd3786"
            ],
            [
             0.5555555555555556,
             "#d8576b"
            ],
            [
             0.6666666666666666,
             "#ed7953"
            ],
            [
             0.7777777777777778,
             "#fb9f3a"
            ],
            [
             0.8888888888888888,
             "#fdca26"
            ],
            [
             1,
             "#f0f921"
            ]
           ]
          },
          "colorway": [
           "#636efa",
           "#EF553B",
           "#00cc96",
           "#ab63fa",
           "#FFA15A",
           "#19d3f3",
           "#FF6692",
           "#B6E880",
           "#FF97FF",
           "#FECB52"
          ],
          "font": {
           "color": "#2a3f5f"
          },
          "geo": {
           "bgcolor": "white",
           "lakecolor": "white",
           "landcolor": "#E5ECF6",
           "showlakes": true,
           "showland": true,
           "subunitcolor": "white"
          },
          "hoverlabel": {
           "align": "left"
          },
          "hovermode": "closest",
          "mapbox": {
           "style": "light"
          },
          "paper_bgcolor": "white",
          "plot_bgcolor": "#E5ECF6",
          "polar": {
           "angularaxis": {
            "gridcolor": "white",
            "linecolor": "white",
            "ticks": ""
           },
           "bgcolor": "#E5ECF6",
           "radialaxis": {
            "gridcolor": "white",
            "linecolor": "white",
            "ticks": ""
           }
          },
          "scene": {
           "xaxis": {
            "backgroundcolor": "#E5ECF6",
            "gridcolor": "white",
            "gridwidth": 2,
            "linecolor": "white",
            "showbackground": true,
            "ticks": "",
            "zerolinecolor": "white"
           },
           "yaxis": {
            "backgroundcolor": "#E5ECF6",
            "gridcolor": "white",
            "gridwidth": 2,
            "linecolor": "white",
            "showbackground": true,
            "ticks": "",
            "zerolinecolor": "white"
           },
           "zaxis": {
            "backgroundcolor": "#E5ECF6",
            "gridcolor": "white",
            "gridwidth": 2,
            "linecolor": "white",
            "showbackground": true,
            "ticks": "",
            "zerolinecolor": "white"
           }
          },
          "shapedefaults": {
           "line": {
            "color": "#2a3f5f"
           }
          },
          "ternary": {
           "aaxis": {
            "gridcolor": "white",
            "linecolor": "white",
            "ticks": ""
           },
           "baxis": {
            "gridcolor": "white",
            "linecolor": "white",
            "ticks": ""
           },
           "bgcolor": "#E5ECF6",
           "caxis": {
            "gridcolor": "white",
            "linecolor": "white",
            "ticks": ""
           }
          },
          "title": {
           "x": 0.05
          },
          "xaxis": {
           "automargin": true,
           "gridcolor": "white",
           "linecolor": "white",
           "ticks": "",
           "title": {
            "standoff": 15
           },
           "zerolinecolor": "white",
           "zerolinewidth": 2
          },
          "yaxis": {
           "automargin": true,
           "gridcolor": "white",
           "linecolor": "white",
           "ticks": "",
           "title": {
            "standoff": 15
           },
           "zerolinecolor": "white",
           "zerolinewidth": 2
          }
         }
        },
        "title": {
         "text": "Number of Maintenance Records per Unit and Quarter"
        },
        "xaxis": {
         "tickangle": -45,
         "title": {
          "text": "Quarter Year"
         }
        },
        "yaxis": {
         "title": {
          "text": "Unit (Equipos)"
         }
        }
       }
      }
     },
     "metadata": {},
     "output_type": "display_data"
    }
   ],
   "source": [
    "df_general.loc[:, 'quarterYear'] = df_general.Fecha_Actual.dt.to_period('Q').astype(str)\n",
    "\n",
    "df_count = df_general.groupby(['quarterYear', 'Equipos'], as_index=False).size()\n",
    "\n",
    "df_unit = df_count.pivot(index='Equipos', columns='quarterYear', values='size').fillna(0)\n",
    "\n",
    "fig = go.Figure(\n",
    "    data=[\n",
    "        go.Heatmap(\n",
    "            z=df_unit.values,\n",
    "            x=df_unit.columns,\n",
    "            y=df_unit.index,\n",
    "            colorscale='Bluered',\n",
    "            colorbar=dict(title='Number of Records')\n",
    "        )\n",
    "    ]\n",
    ")\n",
    "fig.update_layout(\n",
    "    title='Number of Maintenance Records per Unit and Quarter',\n",
    "    xaxis_title='Quarter Year',\n",
    "    yaxis_title='Unit (Equipos)',\n",
    "    xaxis_tickangle=-45\n",
    ")\n",
    "fig.show()\n"
   ]
  },
  {
   "cell_type": "code",
   "execution_count": 7,
   "id": "58fa0ebc",
   "metadata": {},
   "outputs": [
    {
     "data": {
      "application/vnd.plotly.v1+json": {
       "config": {
        "plotlyServerURL": "https://plot.ly"
       },
       "data": [
        {
         "bingroup": "x",
         "hovertemplate": "Length of Comment=%{x}<br>count=%{y}<extra></extra>",
         "legendgroup": "",
         "marker": {
          "color": "#636efa",
          "pattern": {
           "shape": ""
          }
         },
         "name": "",
         "nbinsx": 50,
         "orientation": "v",
         "showlegend": false,
         "type": "histogram",
         "x": {
          "bdata": "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",
          "dtype": "i2"
         },
         "xaxis": "x",
         "yaxis": "y"
        }
       ],
       "layout": {
        "barmode": "relative",
        "legend": {
         "tracegroupgap": 0
        },
        "template": {
         "data": {
          "bar": [
           {
            "error_x": {
             "color": "#2a3f5f"
            },
            "error_y": {
             "color": "#2a3f5f"
            },
            "marker": {
             "line": {
              "color": "#E5ECF6",
              "width": 0.5
             },
             "pattern": {
              "fillmode": "overlay",
              "size": 10,
              "solidity": 0.2
             }
            },
            "type": "bar"
           }
          ],
          "barpolar": [
           {
            "marker": {
             "line": {
              "color": "#E5ECF6",
              "width": 0.5
             },
             "pattern": {
              "fillmode": "overlay",
              "size": 10,
              "solidity": 0.2
             }
            },
            "type": "barpolar"
           }
          ],
          "carpet": [
           {
            "aaxis": {
             "endlinecolor": "#2a3f5f",
             "gridcolor": "white",
             "linecolor": "white",
             "minorgridcolor": "white",
             "startlinecolor": "#2a3f5f"
            },
            "baxis": {
             "endlinecolor": "#2a3f5f",
             "gridcolor": "white",
             "linecolor": "white",
             "minorgridcolor": "white",
             "startlinecolor": "#2a3f5f"
            },
            "type": "carpet"
           }
          ],
          "choropleth": [
           {
            "colorbar": {
             "outlinewidth": 0,
             "ticks": ""
            },
            "type": "choropleth"
           }
          ],
          "contour": [
           {
            "colorbar": {
             "outlinewidth": 0,
             "ticks": ""
            },
            "colorscale": [
             [
              0,
              "#0d0887"
             ],
             [
              0.1111111111111111,
              "#46039f"
             ],
             [
              0.2222222222222222,
              "#7201a8"
             ],
             [
              0.3333333333333333,
              "#9c179e"
             ],
             [
              0.4444444444444444,
              "#bd3786"
             ],
             [
              0.5555555555555556,
              "#d8576b"
             ],
             [
              0.6666666666666666,
              "#ed7953"
             ],
             [
              0.7777777777777778,
              "#fb9f3a"
             ],
             [
              0.8888888888888888,
              "#fdca26"
             ],
             [
              1,
              "#f0f921"
             ]
            ],
            "type": "contour"
           }
          ],
          "contourcarpet": [
           {
            "colorbar": {
             "outlinewidth": 0,
             "ticks": ""
            },
            "type": "contourcarpet"
           }
          ],
          "heatmap": [
           {
            "colorbar": {
             "outlinewidth": 0,
             "ticks": ""
            },
            "colorscale": [
             [
              0,
              "#0d0887"
             ],
             [
              0.1111111111111111,
              "#46039f"
             ],
             [
              0.2222222222222222,
              "#7201a8"
             ],
             [
              0.3333333333333333,
              "#9c179e"
             ],
             [
              0.4444444444444444,
              "#bd3786"
             ],
             [
              0.5555555555555556,
              "#d8576b"
             ],
             [
              0.6666666666666666,
              "#ed7953"
             ],
             [
              0.7777777777777778,
              "#fb9f3a"
             ],
             [
              0.8888888888888888,
              "#fdca26"
             ],
             [
              1,
              "#f0f921"
             ]
            ],
            "type": "heatmap"
           }
          ],
          "histogram": [
           {
            "marker": {
             "pattern": {
              "fillmode": "overlay",
              "size": 10,
              "solidity": 0.2
             }
            },
            "type": "histogram"
           }
          ],
          "histogram2d": [
           {
            "colorbar": {
             "outlinewidth": 0,
             "ticks": ""
            },
            "colorscale": [
             [
              0,
              "#0d0887"
             ],
             [
              0.1111111111111111,
              "#46039f"
             ],
             [
              0.2222222222222222,
              "#7201a8"
             ],
             [
              0.3333333333333333,
              "#9c179e"
             ],
             [
              0.4444444444444444,
              "#bd3786"
             ],
             [
              0.5555555555555556,
              "#d8576b"
             ],
             [
              0.6666666666666666,
              "#ed7953"
             ],
             [
              0.7777777777777778,
              "#fb9f3a"
             ],
             [
              0.8888888888888888,
              "#fdca26"
             ],
             [
              1,
              "#f0f921"
             ]
            ],
            "type": "histogram2d"
           }
          ],
          "histogram2dcontour": [
           {
            "colorbar": {
             "outlinewidth": 0,
             "ticks": ""
            },
            "colorscale": [
             [
              0,
              "#0d0887"
             ],
             [
              0.1111111111111111,
              "#46039f"
             ],
             [
              0.2222222222222222,
              "#7201a8"
             ],
             [
              0.3333333333333333,
              "#9c179e"
             ],
             [
              0.4444444444444444,
              "#bd3786"
             ],
             [
              0.5555555555555556,
              "#d8576b"
             ],
             [
              0.6666666666666666,
              "#ed7953"
             ],
             [
              0.7777777777777778,
              "#fb9f3a"
             ],
             [
              0.8888888888888888,
              "#fdca26"
             ],
             [
              1,
              "#f0f921"
             ]
            ],
            "type": "histogram2dcontour"
           }
          ],
          "mesh3d": [
           {
            "colorbar": {
             "outlinewidth": 0,
             "ticks": ""
            },
            "type": "mesh3d"
           }
          ],
          "parcoords": [
           {
            "line": {
             "colorbar": {
              "outlinewidth": 0,
              "ticks": ""
             }
            },
            "type": "parcoords"
           }
          ],
          "pie": [
           {
            "automargin": true,
            "type": "pie"
           }
          ],
          "scatter": [
           {
            "fillpattern": {
             "fillmode": "overlay",
             "size": 10,
             "solidity": 0.2
            },
            "type": "scatter"
           }
          ],
          "scatter3d": [
           {
            "line": {
             "colorbar": {
              "outlinewidth": 0,
              "ticks": ""
             }
            },
            "marker": {
             "colorbar": {
              "outlinewidth": 0,
              "ticks": ""
             }
            },
            "type": "scatter3d"
           }
          ],
          "scattercarpet": [
           {
            "marker": {
             "colorbar": {
              "outlinewidth": 0,
              "ticks": ""
             }
            },
            "type": "scattercarpet"
           }
          ],
          "scattergeo": [
           {
            "marker": {
             "colorbar": {
              "outlinewidth": 0,
              "ticks": ""
             }
            },
            "type": "scattergeo"
           }
          ],
          "scattergl": [
           {
            "marker": {
             "colorbar": {
              "outlinewidth": 0,
              "ticks": ""
             }
            },
            "type": "scattergl"
           }
          ],
          "scattermap": [
           {
            "marker": {
             "colorbar": {
              "outlinewidth": 0,
              "ticks": ""
             }
            },
            "type": "scattermap"
           }
          ],
          "scattermapbox": [
           {
            "marker": {
             "colorbar": {
              "outlinewidth": 0,
              "ticks": ""
             }
            },
            "type": "scattermapbox"
           }
          ],
          "scatterpolar": [
           {
            "marker": {
             "colorbar": {
              "outlinewidth": 0,
              "ticks": ""
             }
            },
            "type": "scatterpolar"
           }
          ],
          "scatterpolargl": [
           {
            "marker": {
             "colorbar": {
              "outlinewidth": 0,
              "ticks": ""
             }
            },
            "type": "scatterpolargl"
           }
          ],
          "scatterternary": [
           {
            "marker": {
             "colorbar": {
              "outlinewidth": 0,
              "ticks": ""
             }
            },
            "type": "scatterternary"
           }
          ],
          "surface": [
           {
            "colorbar": {
             "outlinewidth": 0,
             "ticks": ""
            },
            "colorscale": [
             [
              0,
              "#0d0887"
             ],
             [
              0.1111111111111111,
              "#46039f"
             ],
             [
              0.2222222222222222,
              "#7201a8"
             ],
             [
              0.3333333333333333,
              "#9c179e"
             ],
             [
              0.4444444444444444,
              "#bd3786"
             ],
             [
              0.5555555555555556,
              "#d8576b"
             ],
             [
              0.6666666666666666,
              "#ed7953"
             ],
             [
              0.7777777777777778,
              "#fb9f3a"
             ],
             [
              0.8888888888888888,
              "#fdca26"
             ],
             [
              1,
              "#f0f921"
             ]
            ],
            "type": "surface"
           }
          ],
          "table": [
           {
            "cells": {
             "fill": {
              "color": "#EBF0F8"
             },
             "line": {
              "color": "white"
             }
            },
            "header": {
             "fill": {
              "color": "#C8D4E3"
             },
             "line": {
              "color": "white"
             }
            },
            "type": "table"
           }
          ]
         },
         "layout": {
          "annotationdefaults": {
           "arrowcolor": "#2a3f5f",
           "arrowhead": 0,
           "arrowwidth": 1
          },
          "autotypenumbers": "strict",
          "coloraxis": {
           "colorbar": {
            "outlinewidth": 0,
            "ticks": ""
           }
          },
          "colorscale": {
           "diverging": [
            [
             0,
             "#8e0152"
            ],
            [
             0.1,
             "#c51b7d"
            ],
            [
             0.2,
             "#de77ae"
            ],
            [
             0.3,
             "#f1b6da"
            ],
            [
             0.4,
             "#fde0ef"
            ],
            [
             0.5,
             "#f7f7f7"
            ],
            [
             0.6,
             "#e6f5d0"
            ],
            [
             0.7,
             "#b8e186"
            ],
            [
             0.8,
             "#7fbc41"
            ],
            [
             0.9,
             "#4d9221"
            ],
            [
             1,
             "#276419"
            ]
           ],
           "sequential": [
            [
             0,
             "#0d0887"
            ],
            [
             0.1111111111111111,
             "#46039f"
            ],
            [
             0.2222222222222222,
             "#7201a8"
            ],
            [
             0.3333333333333333,
             "#9c179e"
            ],
            [
             0.4444444444444444,
             "#bd3786"
            ],
            [
             0.5555555555555556,
             "#d8576b"
            ],
            [
             0.6666666666666666,
             "#ed7953"
            ],
            [
             0.7777777777777778,
             "#fb9f3a"
            ],
            [
             0.8888888888888888,
             "#fdca26"
            ],
            [
             1,
             "#f0f921"
            ]
           ],
           "sequentialminus": [
            [
             0,
             "#0d0887"
            ],
            [
             0.1111111111111111,
             "#46039f"
            ],
            [
             0.2222222222222222,
             "#7201a8"
            ],
            [
             0.3333333333333333,
             "#9c179e"
            ],
            [
             0.4444444444444444,
             "#bd3786"
            ],
            [
             0.5555555555555556,
             "#d8576b"
            ],
            [
             0.6666666666666666,
             "#ed7953"
            ],
            [
             0.7777777777777778,
             "#fb9f3a"
            ],
            [
             0.8888888888888888,
             "#fdca26"
            ],
            [
             1,
             "#f0f921"
            ]
           ]
          },
          "colorway": [
           "#636efa",
           "#EF553B",
           "#00cc96",
           "#ab63fa",
           "#FFA15A",
           "#19d3f3",
           "#FF6692",
           "#B6E880",
           "#FF97FF",
           "#FECB52"
          ],
          "font": {
           "color": "#2a3f5f"
          },
          "geo": {
           "bgcolor": "white",
           "lakecolor": "white",
           "landcolor": "#E5ECF6",
           "showlakes": true,
           "showland": true,
           "subunitcolor": "white"
          },
          "hoverlabel": {
           "align": "left"
          },
          "hovermode": "closest",
          "mapbox": {
           "style": "light"
          },
          "paper_bgcolor": "white",
          "plot_bgcolor": "#E5ECF6",
          "polar": {
           "angularaxis": {
            "gridcolor": "white",
            "linecolor": "white",
            "ticks": ""
           },
           "bgcolor": "#E5ECF6",
           "radialaxis": {
            "gridcolor": "white",
            "linecolor": "white",
            "ticks": ""
           }
          },
          "scene": {
           "xaxis": {
            "backgroundcolor": "#E5ECF6",
            "gridcolor": "white",
            "gridwidth": 2,
            "linecolor": "white",
            "showbackground": true,
            "ticks": "",
            "zerolinecolor": "white"
           },
           "yaxis": {
            "backgroundcolor": "#E5ECF6",
            "gridcolor": "white",
            "gridwidth": 2,
            "linecolor": "white",
            "showbackground": true,
            "ticks": "",
            "zerolinecolor": "white"
           },
           "zaxis": {
            "backgroundcolor": "#E5ECF6",
            "gridcolor": "white",
            "gridwidth": 2,
            "linecolor": "white",
            "showbackground": true,
            "ticks": "",
            "zerolinecolor": "white"
           }
          },
          "shapedefaults": {
           "line": {
            "color": "#2a3f5f"
           }
          },
          "ternary": {
           "aaxis": {
            "gridcolor": "white",
            "linecolor": "white",
            "ticks": ""
           },
           "baxis": {
            "gridcolor": "white",
            "linecolor": "white",
            "ticks": ""
           },
           "bgcolor": "#E5ECF6",
           "caxis": {
            "gridcolor": "white",
            "linecolor": "white",
            "ticks": ""
           }
          },
          "title": {
           "x": 0.05
          },
          "xaxis": {
           "automargin": true,
           "gridcolor": "white",
           "linecolor": "white",
           "ticks": "",
           "title": {
            "standoff": 15
           },
           "zerolinecolor": "white",
           "zerolinewidth": 2
          },
          "yaxis": {
           "automargin": true,
           "gridcolor": "white",
           "linecolor": "white",
           "ticks": "",
           "title": {
            "standoff": 15
           },
           "zerolinecolor": "white",
           "zerolinewidth": 2
          }
         }
        },
        "title": {
         "text": "Length of Comments in Maintenance Records"
        },
        "xaxis": {
         "anchor": "y",
         "domain": [
          0,
          1
         ],
         "title": {
          "text": "Length of Comment"
         }
        },
        "yaxis": {
         "anchor": "x",
         "domain": [
          0,
          1
         ],
         "title": {
          "text": "count"
         }
        }
       }
      }
     },
     "metadata": {},
     "output_type": "display_data"
    }
   ],
   "source": [
    "df_general.loc[:, 'len_comment'] = df_general.Trabajo_Ejecutado.apply(lambda x: len(str(x)) if pd.notnull(x) else 0)\n",
    "\n",
    "fig = px.histogram(\n",
    "    df_general,\n",
    "    x='len_comment',\n",
    "    title='Length of Comments in Maintenance Records',\n",
    "    labels={'len_comment': 'Length of Comment'},\n",
    "    nbins=50,\n",
    "    color_discrete_sequence=['#636efa']\n",
    ")\n",
    "\n",
    "fig.show()"
   ]
  }
 ],
 "metadata": {
  "kernelspec": {
   "display_name": ".venv",
   "language": "python",
   "name": "python3"
  },
  "language_info": {
   "codemirror_mode": {
    "name": "ipython",
    "version": 3
   },
   "file_extension": ".py",
   "mimetype": "text/x-python",
   "name": "python",
   "nbconvert_exporter": "python",
   "pygments_lexer": "ipython3",
   "version": "3.12.10"
  }
 },
 "nbformat": 4,
 "nbformat_minor": 5
}
