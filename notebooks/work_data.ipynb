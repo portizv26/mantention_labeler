{
 "cells": [
  {
   "cell_type": "code",
   "execution_count": 1,
   "id": "df0b8e21",
   "metadata": {},
   "outputs": [],
   "source": [
    "import pandas as pd\n",
    "from datetime import timedelta\n",
    "import os\n",
    "from typing import List, Dict, Any\n",
    "import json\n",
    "\n",
    "os.chdir('../')\n",
    "\n",
    "from src.data_handler import *"
   ]
  },
  {
   "cell_type": "code",
   "execution_count": 2,
   "id": "11d58414",
   "metadata": {},
   "outputs": [
    {
     "data": {
      "text/html": [
       "<div>\n",
       "<style scoped>\n",
       "    .dataframe tbody tr th:only-of-type {\n",
       "        vertical-align: middle;\n",
       "    }\n",
       "\n",
       "    .dataframe tbody tr th {\n",
       "        vertical-align: top;\n",
       "    }\n",
       "\n",
       "    .dataframe thead th {\n",
       "        text-align: right;\n",
       "    }\n",
       "</style>\n",
       "<table border=\"1\" class=\"dataframe\">\n",
       "  <thead>\n",
       "    <tr style=\"text-align: right;\">\n",
       "      <th></th>\n",
       "      <th>Equipos</th>\n",
       "      <th>Horómetro</th>\n",
       "      <th>Fecha_Actual</th>\n",
       "      <th>Hora_de_Detención</th>\n",
       "      <th>Hora_de_Entrega</th>\n",
       "      <th>Tiempo_FS</th>\n",
       "      <th>Nro_Personas</th>\n",
       "      <th>Horas_Persona</th>\n",
       "      <th>Sistema</th>\n",
       "      <th>Sub_Sistemas</th>\n",
       "      <th>Tipo_de_Detención</th>\n",
       "      <th>Trabajo_Ejecutado</th>\n",
       "      <th>Nº_OT</th>\n",
       "      <th>Nº_Backlog</th>\n",
       "      <th>Status_Final</th>\n",
       "      <th>Trabajos_Pendientes</th>\n",
       "      <th>Jefe_de_Turno</th>\n",
       "      <th>Turnos</th>\n",
       "    </tr>\n",
       "  </thead>\n",
       "  <tbody>\n",
       "    <tr>\n",
       "      <th>0</th>\n",
       "      <td>T_09</td>\n",
       "      <td>86075</td>\n",
       "      <td>2021-08-09</td>\n",
       "      <td>10:42:00</td>\n",
       "      <td>10:51:00</td>\n",
       "      <td>0.15</td>\n",
       "      <td>2</td>\n",
       "      <td>0.30</td>\n",
       "      <td>T_Engrase</td>\n",
       "      <td>TK Grasa</td>\n",
       "      <td>Operacional</td>\n",
       "      <td>ot 402803 se asiste a equipo y se rellena tk d...</td>\n",
       "      <td>0</td>\n",
       "      <td>NaN</td>\n",
       "      <td>Operativo</td>\n",
       "      <td>NaN</td>\n",
       "      <td>jorge pasten</td>\n",
       "      <td>Dia</td>\n",
       "    </tr>\n",
       "    <tr>\n",
       "      <th>1</th>\n",
       "      <td>T_09</td>\n",
       "      <td>86075</td>\n",
       "      <td>2021-08-09</td>\n",
       "      <td>10:51:00</td>\n",
       "      <td>12:18:00</td>\n",
       "      <td>1.45</td>\n",
       "      <td>0</td>\n",
       "      <td>0.00</td>\n",
       "      <td>T_Neumaticos</td>\n",
       "      <td>Inspección</td>\n",
       "      <td>Operacional</td>\n",
       "      <td>se realiza chequeo preventivo por llamado oper...</td>\n",
       "      <td>0</td>\n",
       "      <td>NaN</td>\n",
       "      <td>Operativo</td>\n",
       "      <td>NaN</td>\n",
       "      <td>jorge pasten</td>\n",
       "      <td>Dia</td>\n",
       "    </tr>\n",
       "    <tr>\n",
       "      <th>2</th>\n",
       "      <td>T_11</td>\n",
       "      <td>88951</td>\n",
       "      <td>2021-08-08</td>\n",
       "      <td>03:50:00</td>\n",
       "      <td>04:30:00</td>\n",
       "      <td>0.67</td>\n",
       "      <td>2</td>\n",
       "      <td>1.34</td>\n",
       "      <td>T_Motor</td>\n",
       "      <td>Filtros</td>\n",
       "      <td>Stand-By</td>\n",
       "      <td>ot-402797 operador informa alarma de presión d...</td>\n",
       "      <td>402797</td>\n",
       "      <td>NaN</td>\n",
       "      <td>Operativo</td>\n",
       "      <td>NaN</td>\n",
       "      <td>Hernán Veliz</td>\n",
       "      <td>Noche</td>\n",
       "    </tr>\n",
       "    <tr>\n",
       "      <th>3</th>\n",
       "      <td>T_11</td>\n",
       "      <td>88958</td>\n",
       "      <td>2021-08-09</td>\n",
       "      <td>13:31:00</td>\n",
       "      <td>16:19:00</td>\n",
       "      <td>2.80</td>\n",
       "      <td>2</td>\n",
       "      <td>5.60</td>\n",
       "      <td>T_Engrase</td>\n",
       "      <td>TK Grasa</td>\n",
       "      <td>Falla</td>\n",
       "      <td>c.s.i.se acude a equipo por alarma de lubricac...</td>\n",
       "      <td>0</td>\n",
       "      <td>NaN</td>\n",
       "      <td>Operativo</td>\n",
       "      <td>NaN</td>\n",
       "      <td>jorge pasten</td>\n",
       "      <td>Dia</td>\n",
       "    </tr>\n",
       "    <tr>\n",
       "      <th>4</th>\n",
       "      <td>T_11</td>\n",
       "      <td>89049</td>\n",
       "      <td>2021-08-14</td>\n",
       "      <td>09:35:00</td>\n",
       "      <td>09:45:00</td>\n",
       "      <td>0.17</td>\n",
       "      <td>2</td>\n",
       "      <td>0.34</td>\n",
       "      <td>T_Hidraulico</td>\n",
       "      <td>TK Hidraulico</td>\n",
       "      <td>Operacional</td>\n",
       "      <td>se realiza relleno de aceite hidráulico implem...</td>\n",
       "      <td>0</td>\n",
       "      <td>NaN</td>\n",
       "      <td>Operativo</td>\n",
       "      <td>NaN</td>\n",
       "      <td>Manuel González</td>\n",
       "      <td>Dia</td>\n",
       "    </tr>\n",
       "  </tbody>\n",
       "</table>\n",
       "</div>"
      ],
      "text/plain": [
       "  Equipos  Horómetro Fecha_Actual Hora_de_Detención Hora_de_Entrega  \\\n",
       "0    T_09      86075   2021-08-09          10:42:00        10:51:00   \n",
       "1    T_09      86075   2021-08-09          10:51:00        12:18:00   \n",
       "2    T_11      88951   2021-08-08          03:50:00        04:30:00   \n",
       "3    T_11      88958   2021-08-09          13:31:00        16:19:00   \n",
       "4    T_11      89049   2021-08-14          09:35:00        09:45:00   \n",
       "\n",
       "   Tiempo_FS  Nro_Personas  Horas_Persona       Sistema   Sub_Sistemas  \\\n",
       "0       0.15             2           0.30     T_Engrase       TK Grasa   \n",
       "1       1.45             0           0.00  T_Neumaticos     Inspección   \n",
       "2       0.67             2           1.34       T_Motor        Filtros   \n",
       "3       2.80             2           5.60     T_Engrase       TK Grasa   \n",
       "4       0.17             2           0.34  T_Hidraulico  TK Hidraulico   \n",
       "\n",
       "  Tipo_de_Detención                                  Trabajo_Ejecutado  \\\n",
       "0       Operacional  ot 402803 se asiste a equipo y se rellena tk d...   \n",
       "1       Operacional  se realiza chequeo preventivo por llamado oper...   \n",
       "2          Stand-By  ot-402797 operador informa alarma de presión d...   \n",
       "3             Falla  c.s.i.se acude a equipo por alarma de lubricac...   \n",
       "4       Operacional  se realiza relleno de aceite hidráulico implem...   \n",
       "\n",
       "    Nº_OT  Nº_Backlog Status_Final Trabajos_Pendientes    Jefe_de_Turno Turnos  \n",
       "0       0         NaN    Operativo                 NaN     jorge pasten    Dia  \n",
       "1       0         NaN    Operativo                 NaN     jorge pasten    Dia  \n",
       "2  402797         NaN    Operativo                 NaN     Hernán Veliz  Noche  \n",
       "3       0         NaN    Operativo                 NaN     jorge pasten    Dia  \n",
       "4       0         NaN    Operativo                 NaN  Manuel González    Dia  "
      ]
     },
     "execution_count": 2,
     "metadata": {},
     "output_type": "execute_result"
    }
   ],
   "source": [
    "Y = 2021\n",
    "W = 32\n",
    "path = f'data/to_process/maintenance_data_{Y}-{W:02d}.xlsx'\n",
    "\n",
    "df_example = read_data(path)\n",
    "df_example.head()"
   ]
  },
  {
   "cell_type": "code",
   "execution_count": 3,
   "id": "74e0321c",
   "metadata": {},
   "outputs": [
    {
     "data": {
      "text/html": [
       "<div>\n",
       "<style scoped>\n",
       "    .dataframe tbody tr th:only-of-type {\n",
       "        vertical-align: middle;\n",
       "    }\n",
       "\n",
       "    .dataframe tbody tr th {\n",
       "        vertical-align: top;\n",
       "    }\n",
       "\n",
       "    .dataframe thead th {\n",
       "        text-align: right;\n",
       "    }\n",
       "</style>\n",
       "<table border=\"1\" class=\"dataframe\">\n",
       "  <thead>\n",
       "    <tr style=\"text-align: right;\">\n",
       "      <th></th>\n",
       "      <th>UnitId</th>\n",
       "      <th>Date</th>\n",
       "      <th>start_time</th>\n",
       "      <th>end_time</th>\n",
       "      <th>time_FS</th>\n",
       "      <th>System</th>\n",
       "      <th>Subsystem</th>\n",
       "      <th>type_detention</th>\n",
       "      <th>observation</th>\n",
       "      <th>observation_length</th>\n",
       "      <th>observation_length_new</th>\n",
       "      <th>isMantention</th>\n",
       "      <th>empty_obs</th>\n",
       "    </tr>\n",
       "  </thead>\n",
       "  <tbody>\n",
       "    <tr>\n",
       "      <th>0</th>\n",
       "      <td>T_09</td>\n",
       "      <td>2021-08-09</td>\n",
       "      <td>2021-08-09 10:42:00</td>\n",
       "      <td>2021-08-09 10:51:00</td>\n",
       "      <td>0.15</td>\n",
       "      <td>Engrase</td>\n",
       "      <td>TK Grasa</td>\n",
       "      <td>Operacional</td>\n",
       "      <td>ot 402803 se asiste a equipo y se rellena tk d...</td>\n",
       "      <td>71</td>\n",
       "      <td>71</td>\n",
       "      <td>No.</td>\n",
       "      <td>False</td>\n",
       "    </tr>\n",
       "    <tr>\n",
       "      <th>1</th>\n",
       "      <td>T_09</td>\n",
       "      <td>2021-08-09</td>\n",
       "      <td>2021-08-09 10:51:00</td>\n",
       "      <td>2021-08-09 12:18:00</td>\n",
       "      <td>1.45</td>\n",
       "      <td>Neumaticos</td>\n",
       "      <td>Inspección</td>\n",
       "      <td>Operacional</td>\n",
       "      <td>se realiza chequeo preventivo por llamado oper...</td>\n",
       "      <td>450</td>\n",
       "      <td>450</td>\n",
       "      <td>No.</td>\n",
       "      <td>False</td>\n",
       "    </tr>\n",
       "    <tr>\n",
       "      <th>2</th>\n",
       "      <td>T_11</td>\n",
       "      <td>2021-08-08</td>\n",
       "      <td>2021-08-08 03:50:00</td>\n",
       "      <td>2021-08-08 04:30:00</td>\n",
       "      <td>0.67</td>\n",
       "      <td>Motor</td>\n",
       "      <td>Filtros</td>\n",
       "      <td>Stand-By</td>\n",
       "      <td>ot-402797 operador informa alarma de presion d...</td>\n",
       "      <td>290</td>\n",
       "      <td>290</td>\n",
       "      <td>No.</td>\n",
       "      <td>False</td>\n",
       "    </tr>\n",
       "    <tr>\n",
       "      <th>3</th>\n",
       "      <td>T_11</td>\n",
       "      <td>2021-08-09</td>\n",
       "      <td>2021-08-09 13:31:00</td>\n",
       "      <td>2021-08-09 16:19:00</td>\n",
       "      <td>2.80</td>\n",
       "      <td>Engrase</td>\n",
       "      <td>TK Grasa</td>\n",
       "      <td>Falla</td>\n",
       "      <td>se acude a equipo por alarma de lubricacion- s...</td>\n",
       "      <td>819</td>\n",
       "      <td>819</td>\n",
       "      <td>No.</td>\n",
       "      <td>False</td>\n",
       "    </tr>\n",
       "    <tr>\n",
       "      <th>4</th>\n",
       "      <td>T_11</td>\n",
       "      <td>2021-08-14</td>\n",
       "      <td>2021-08-14 09:35:00</td>\n",
       "      <td>2021-08-14 09:45:00</td>\n",
       "      <td>0.17</td>\n",
       "      <td>Hidraulico</td>\n",
       "      <td>TK Hidraulico</td>\n",
       "      <td>Operacional</td>\n",
       "      <td>se realiza relleno de aceite hidraulico implem...</td>\n",
       "      <td>57</td>\n",
       "      <td>57</td>\n",
       "      <td>No.</td>\n",
       "      <td>False</td>\n",
       "    </tr>\n",
       "  </tbody>\n",
       "</table>\n",
       "</div>"
      ],
      "text/plain": [
       "  UnitId       Date          start_time            end_time  time_FS  \\\n",
       "0   T_09 2021-08-09 2021-08-09 10:42:00 2021-08-09 10:51:00     0.15   \n",
       "1   T_09 2021-08-09 2021-08-09 10:51:00 2021-08-09 12:18:00     1.45   \n",
       "2   T_11 2021-08-08 2021-08-08 03:50:00 2021-08-08 04:30:00     0.67   \n",
       "3   T_11 2021-08-09 2021-08-09 13:31:00 2021-08-09 16:19:00     2.80   \n",
       "4   T_11 2021-08-14 2021-08-14 09:35:00 2021-08-14 09:45:00     0.17   \n",
       "\n",
       "       System      Subsystem type_detention  \\\n",
       "0     Engrase       TK Grasa    Operacional   \n",
       "1  Neumaticos     Inspección    Operacional   \n",
       "2       Motor        Filtros       Stand-By   \n",
       "3     Engrase       TK Grasa          Falla   \n",
       "4  Hidraulico  TK Hidraulico    Operacional   \n",
       "\n",
       "                                         observation  observation_length  \\\n",
       "0  ot 402803 se asiste a equipo y se rellena tk d...                  71   \n",
       "1  se realiza chequeo preventivo por llamado oper...                 450   \n",
       "2  ot-402797 operador informa alarma de presion d...                 290   \n",
       "3  se acude a equipo por alarma de lubricacion- s...                 819   \n",
       "4  se realiza relleno de aceite hidraulico implem...                  57   \n",
       "\n",
       "   observation_length_new isMantention  empty_obs  \n",
       "0                      71          No.      False  \n",
       "1                     450          No.      False  \n",
       "2                     290          No.      False  \n",
       "3                     819          No.      False  \n",
       "4                      57          No.      False  "
      ]
     },
     "execution_count": 3,
     "metadata": {},
     "output_type": "execute_result"
    }
   ],
   "source": [
    "df_example_processed = read_and_process_data(path, Y, W)\n",
    "df_example_processed.head()"
   ]
  },
  {
   "cell_type": "code",
   "execution_count": 4,
   "id": "29dd1807",
   "metadata": {},
   "outputs": [
    {
     "name": "stdout",
     "output_type": "stream",
     "text": [
      "Observation Length Statistics:\n",
      "Original: mean=311.10, median=163.00, std=318.44\n",
      "New     : mean=291.96, median=155.50, std=333.02\n"
     ]
    },
    {
     "data": {
      "application/vnd.plotly.v1+json": {
       "config": {
        "plotlyServerURL": "https://plot.ly"
       },
       "data": [
        {
         "alignmentgroup": "True",
         "box": {
          "visible": true
         },
         "hovertemplate": "Type=%{y}<br>Observation Length=%{x}<extra></extra>",
         "legendgroup": "Original Length",
         "marker": {
          "color": "#1f77b4"
         },
         "name": "Original Length",
         "offsetgroup": "Original Length",
         "orientation": "h",
         "points": false,
         "scalegroup": "True",
         "showlegend": true,
         "type": "violin",
         "x": {
          "bdata": "RwDCASIBMwM5AEIDWADpAGYASwBDAH8EXwGHBV4B8QLGAhUC8wKUAMwAOQDzAIMAagOjAIwAbQApAHcAXgCjAIMAaQCxACYBkQB5AA4BSQAbAzoBcgBvAAABbABrAN4A",
          "dtype": "i2"
         },
         "x0": " ",
         "xaxis": "x",
         "y": [
          "Original Length",
          "Original Length",
          "Original Length",
          "Original Length",
          "Original Length",
          "Original Length",
          "Original Length",
          "Original Length",
          "Original Length",
          "Original Length",
          "Original Length",
          "Original Length",
          "Original Length",
          "Original Length",
          "Original Length",
          "Original Length",
          "Original Length",
          "Original Length",
          "Original Length",
          "Original Length",
          "Original Length",
          "Original Length",
          "Original Length",
          "Original Length",
          "Original Length",
          "Original Length",
          "Original Length",
          "Original Length",
          "Original Length",
          "Original Length",
          "Original Length",
          "Original Length",
          "Original Length",
          "Original Length",
          "Original Length",
          "Original Length",
          "Original Length",
          "Original Length",
          "Original Length",
          "Original Length",
          "Original Length",
          "Original Length",
          "Original Length",
          "Original Length",
          "Original Length",
          "Original Length",
          "Original Length",
          "Original Length"
         ],
         "y0": " ",
         "yaxis": "y"
        },
        {
         "alignmentgroup": "True",
         "box": {
          "visible": true
         },
         "hovertemplate": "Type=%{y}<br>Observation Length=%{x}<extra></extra>",
         "legendgroup": "New Length",
         "marker": {
          "color": "#ff7f0e"
         },
         "name": "New Length",
         "offsetgroup": "New Length",
         "orientation": "h",
         "points": false,
         "scalegroup": "True",
         "showlegend": true,
         "type": "violin",
         "x": {
          "bdata": "RwDCASIBMwM5AEIDWADpAGYAAAAAAH8EXwGHBV4B8QLGAhUC8wKUAMwAOQDzAIMAagMAAAAAbQAAAHcAAACjAIMAaQCxACYBAAAAAA4BAAAbAzoBcgBvAAABbABrAN4A",
          "dtype": "i2"
         },
         "x0": " ",
         "xaxis": "x",
         "y": [
          "New Length",
          "New Length",
          "New Length",
          "New Length",
          "New Length",
          "New Length",
          "New Length",
          "New Length",
          "New Length",
          "New Length",
          "New Length",
          "New Length",
          "New Length",
          "New Length",
          "New Length",
          "New Length",
          "New Length",
          "New Length",
          "New Length",
          "New Length",
          "New Length",
          "New Length",
          "New Length",
          "New Length",
          "New Length",
          "New Length",
          "New Length",
          "New Length",
          "New Length",
          "New Length",
          "New Length",
          "New Length",
          "New Length",
          "New Length",
          "New Length",
          "New Length",
          "New Length",
          "New Length",
          "New Length",
          "New Length",
          "New Length",
          "New Length",
          "New Length",
          "New Length",
          "New Length",
          "New Length",
          "New Length",
          "New Length"
         ],
         "y0": " ",
         "yaxis": "y"
        }
       ],
       "layout": {
        "font": {
         "size": 14
        },
        "legend": {
         "orientation": "h",
         "title": {
          "text": "Type"
         },
         "tracegroupgap": 0,
         "x": 1,
         "xanchor": "right",
         "y": 1.02,
         "yanchor": "bottom"
        },
        "margin": {
         "t": 60
        },
        "plot_bgcolor": "rgba(245,245,245,1)",
        "template": {
         "data": {
          "bar": [
           {
            "error_x": {
             "color": "#2a3f5f"
            },
            "error_y": {
             "color": "#2a3f5f"
            },
            "marker": {
             "line": {
              "color": "white",
              "width": 0.5
             },
             "pattern": {
              "fillmode": "overlay",
              "size": 10,
              "solidity": 0.2
             }
            },
            "type": "bar"
           }
          ],
          "barpolar": [
           {
            "marker": {
             "line": {
              "color": "white",
              "width": 0.5
             },
             "pattern": {
              "fillmode": "overlay",
              "size": 10,
              "solidity": 0.2
             }
            },
            "type": "barpolar"
           }
          ],
          "carpet": [
           {
            "aaxis": {
             "endlinecolor": "#2a3f5f",
             "gridcolor": "#C8D4E3",
             "linecolor": "#C8D4E3",
             "minorgridcolor": "#C8D4E3",
             "startlinecolor": "#2a3f5f"
            },
            "baxis": {
             "endlinecolor": "#2a3f5f",
             "gridcolor": "#C8D4E3",
             "linecolor": "#C8D4E3",
             "minorgridcolor": "#C8D4E3",
             "startlinecolor": "#2a3f5f"
            },
            "type": "carpet"
           }
          ],
          "choropleth": [
           {
            "colorbar": {
             "outlinewidth": 0,
             "ticks": ""
            },
            "type": "choropleth"
           }
          ],
          "contour": [
           {
            "colorbar": {
             "outlinewidth": 0,
             "ticks": ""
            },
            "colorscale": [
             [
              0,
              "#0d0887"
             ],
             [
              0.1111111111111111,
              "#46039f"
             ],
             [
              0.2222222222222222,
              "#7201a8"
             ],
             [
              0.3333333333333333,
              "#9c179e"
             ],
             [
              0.4444444444444444,
              "#bd3786"
             ],
             [
              0.5555555555555556,
              "#d8576b"
             ],
             [
              0.6666666666666666,
              "#ed7953"
             ],
             [
              0.7777777777777778,
              "#fb9f3a"
             ],
             [
              0.8888888888888888,
              "#fdca26"
             ],
             [
              1,
              "#f0f921"
             ]
            ],
            "type": "contour"
           }
          ],
          "contourcarpet": [
           {
            "colorbar": {
             "outlinewidth": 0,
             "ticks": ""
            },
            "type": "contourcarpet"
           }
          ],
          "heatmap": [
           {
            "colorbar": {
             "outlinewidth": 0,
             "ticks": ""
            },
            "colorscale": [
             [
              0,
              "#0d0887"
             ],
             [
              0.1111111111111111,
              "#46039f"
             ],
             [
              0.2222222222222222,
              "#7201a8"
             ],
             [
              0.3333333333333333,
              "#9c179e"
             ],
             [
              0.4444444444444444,
              "#bd3786"
             ],
             [
              0.5555555555555556,
              "#d8576b"
             ],
             [
              0.6666666666666666,
              "#ed7953"
             ],
             [
              0.7777777777777778,
              "#fb9f3a"
             ],
             [
              0.8888888888888888,
              "#fdca26"
             ],
             [
              1,
              "#f0f921"
             ]
            ],
            "type": "heatmap"
           }
          ],
          "histogram": [
           {
            "marker": {
             "pattern": {
              "fillmode": "overlay",
              "size": 10,
              "solidity": 0.2
             }
            },
            "type": "histogram"
           }
          ],
          "histogram2d": [
           {
            "colorbar": {
             "outlinewidth": 0,
             "ticks": ""
            },
            "colorscale": [
             [
              0,
              "#0d0887"
             ],
             [
              0.1111111111111111,
              "#46039f"
             ],
             [
              0.2222222222222222,
              "#7201a8"
             ],
             [
              0.3333333333333333,
              "#9c179e"
             ],
             [
              0.4444444444444444,
              "#bd3786"
             ],
             [
              0.5555555555555556,
              "#d8576b"
             ],
             [
              0.6666666666666666,
              "#ed7953"
             ],
             [
              0.7777777777777778,
              "#fb9f3a"
             ],
             [
              0.8888888888888888,
              "#fdca26"
             ],
             [
              1,
              "#f0f921"
             ]
            ],
            "type": "histogram2d"
           }
          ],
          "histogram2dcontour": [
           {
            "colorbar": {
             "outlinewidth": 0,
             "ticks": ""
            },
            "colorscale": [
             [
              0,
              "#0d0887"
             ],
             [
              0.1111111111111111,
              "#46039f"
             ],
             [
              0.2222222222222222,
              "#7201a8"
             ],
             [
              0.3333333333333333,
              "#9c179e"
             ],
             [
              0.4444444444444444,
              "#bd3786"
             ],
             [
              0.5555555555555556,
              "#d8576b"
             ],
             [
              0.6666666666666666,
              "#ed7953"
             ],
             [
              0.7777777777777778,
              "#fb9f3a"
             ],
             [
              0.8888888888888888,
              "#fdca26"
             ],
             [
              1,
              "#f0f921"
             ]
            ],
            "type": "histogram2dcontour"
           }
          ],
          "mesh3d": [
           {
            "colorbar": {
             "outlinewidth": 0,
             "ticks": ""
            },
            "type": "mesh3d"
           }
          ],
          "parcoords": [
           {
            "line": {
             "colorbar": {
              "outlinewidth": 0,
              "ticks": ""
             }
            },
            "type": "parcoords"
           }
          ],
          "pie": [
           {
            "automargin": true,
            "type": "pie"
           }
          ],
          "scatter": [
           {
            "fillpattern": {
             "fillmode": "overlay",
             "size": 10,
             "solidity": 0.2
            },
            "type": "scatter"
           }
          ],
          "scatter3d": [
           {
            "line": {
             "colorbar": {
              "outlinewidth": 0,
              "ticks": ""
             }
            },
            "marker": {
             "colorbar": {
              "outlinewidth": 0,
              "ticks": ""
             }
            },
            "type": "scatter3d"
           }
          ],
          "scattercarpet": [
           {
            "marker": {
             "colorbar": {
              "outlinewidth": 0,
              "ticks": ""
             }
            },
            "type": "scattercarpet"
           }
          ],
          "scattergeo": [
           {
            "marker": {
             "colorbar": {
              "outlinewidth": 0,
              "ticks": ""
             }
            },
            "type": "scattergeo"
           }
          ],
          "scattergl": [
           {
            "marker": {
             "colorbar": {
              "outlinewidth": 0,
              "ticks": ""
             }
            },
            "type": "scattergl"
           }
          ],
          "scattermap": [
           {
            "marker": {
             "colorbar": {
              "outlinewidth": 0,
              "ticks": ""
             }
            },
            "type": "scattermap"
           }
          ],
          "scattermapbox": [
           {
            "marker": {
             "colorbar": {
              "outlinewidth": 0,
              "ticks": ""
             }
            },
            "type": "scattermapbox"
           }
          ],
          "scatterpolar": [
           {
            "marker": {
             "colorbar": {
              "outlinewidth": 0,
              "ticks": ""
             }
            },
            "type": "scatterpolar"
           }
          ],
          "scatterpolargl": [
           {
            "marker": {
             "colorbar": {
              "outlinewidth": 0,
              "ticks": ""
             }
            },
            "type": "scatterpolargl"
           }
          ],
          "scatterternary": [
           {
            "marker": {
             "colorbar": {
              "outlinewidth": 0,
              "ticks": ""
             }
            },
            "type": "scatterternary"
           }
          ],
          "surface": [
           {
            "colorbar": {
             "outlinewidth": 0,
             "ticks": ""
            },
            "colorscale": [
             [
              0,
              "#0d0887"
             ],
             [
              0.1111111111111111,
              "#46039f"
             ],
             [
              0.2222222222222222,
              "#7201a8"
             ],
             [
              0.3333333333333333,
              "#9c179e"
             ],
             [
              0.4444444444444444,
              "#bd3786"
             ],
             [
              0.5555555555555556,
              "#d8576b"
             ],
             [
              0.6666666666666666,
              "#ed7953"
             ],
             [
              0.7777777777777778,
              "#fb9f3a"
             ],
             [
              0.8888888888888888,
              "#fdca26"
             ],
             [
              1,
              "#f0f921"
             ]
            ],
            "type": "surface"
           }
          ],
          "table": [
           {
            "cells": {
             "fill": {
              "color": "#EBF0F8"
             },
             "line": {
              "color": "white"
             }
            },
            "header": {
             "fill": {
              "color": "#C8D4E3"
             },
             "line": {
              "color": "white"
             }
            },
            "type": "table"
           }
          ]
         },
         "layout": {
          "annotationdefaults": {
           "arrowcolor": "#2a3f5f",
           "arrowhead": 0,
           "arrowwidth": 1
          },
          "autotypenumbers": "strict",
          "coloraxis": {
           "colorbar": {
            "outlinewidth": 0,
            "ticks": ""
           }
          },
          "colorscale": {
           "diverging": [
            [
             0,
             "#8e0152"
            ],
            [
             0.1,
             "#c51b7d"
            ],
            [
             0.2,
             "#de77ae"
            ],
            [
             0.3,
             "#f1b6da"
            ],
            [
             0.4,
             "#fde0ef"
            ],
            [
             0.5,
             "#f7f7f7"
            ],
            [
             0.6,
             "#e6f5d0"
            ],
            [
             0.7,
             "#b8e186"
            ],
            [
             0.8,
             "#7fbc41"
            ],
            [
             0.9,
             "#4d9221"
            ],
            [
             1,
             "#276419"
            ]
           ],
           "sequential": [
            [
             0,
             "#0d0887"
            ],
            [
             0.1111111111111111,
             "#46039f"
            ],
            [
             0.2222222222222222,
             "#7201a8"
            ],
            [
             0.3333333333333333,
             "#9c179e"
            ],
            [
             0.4444444444444444,
             "#bd3786"
            ],
            [
             0.5555555555555556,
             "#d8576b"
            ],
            [
             0.6666666666666666,
             "#ed7953"
            ],
            [
             0.7777777777777778,
             "#fb9f3a"
            ],
            [
             0.8888888888888888,
             "#fdca26"
            ],
            [
             1,
             "#f0f921"
            ]
           ],
           "sequentialminus": [
            [
             0,
             "#0d0887"
            ],
            [
             0.1111111111111111,
             "#46039f"
            ],
            [
             0.2222222222222222,
             "#7201a8"
            ],
            [
             0.3333333333333333,
             "#9c179e"
            ],
            [
             0.4444444444444444,
             "#bd3786"
            ],
            [
             0.5555555555555556,
             "#d8576b"
            ],
            [
             0.6666666666666666,
             "#ed7953"
            ],
            [
             0.7777777777777778,
             "#fb9f3a"
            ],
            [
             0.8888888888888888,
             "#fdca26"
            ],
            [
             1,
             "#f0f921"
            ]
           ]
          },
          "colorway": [
           "#636efa",
           "#EF553B",
           "#00cc96",
           "#ab63fa",
           "#FFA15A",
           "#19d3f3",
           "#FF6692",
           "#B6E880",
           "#FF97FF",
           "#FECB52"
          ],
          "font": {
           "color": "#2a3f5f"
          },
          "geo": {
           "bgcolor": "white",
           "lakecolor": "white",
           "landcolor": "white",
           "showlakes": true,
           "showland": true,
           "subunitcolor": "#C8D4E3"
          },
          "hoverlabel": {
           "align": "left"
          },
          "hovermode": "closest",
          "mapbox": {
           "style": "light"
          },
          "paper_bgcolor": "white",
          "plot_bgcolor": "white",
          "polar": {
           "angularaxis": {
            "gridcolor": "#EBF0F8",
            "linecolor": "#EBF0F8",
            "ticks": ""
           },
           "bgcolor": "white",
           "radialaxis": {
            "gridcolor": "#EBF0F8",
            "linecolor": "#EBF0F8",
            "ticks": ""
           }
          },
          "scene": {
           "xaxis": {
            "backgroundcolor": "white",
            "gridcolor": "#DFE8F3",
            "gridwidth": 2,
            "linecolor": "#EBF0F8",
            "showbackground": true,
            "ticks": "",
            "zerolinecolor": "#EBF0F8"
           },
           "yaxis": {
            "backgroundcolor": "white",
            "gridcolor": "#DFE8F3",
            "gridwidth": 2,
            "linecolor": "#EBF0F8",
            "showbackground": true,
            "ticks": "",
            "zerolinecolor": "#EBF0F8"
           },
           "zaxis": {
            "backgroundcolor": "white",
            "gridcolor": "#DFE8F3",
            "gridwidth": 2,
            "linecolor": "#EBF0F8",
            "showbackground": true,
            "ticks": "",
            "zerolinecolor": "#EBF0F8"
           }
          },
          "shapedefaults": {
           "line": {
            "color": "#2a3f5f"
           }
          },
          "ternary": {
           "aaxis": {
            "gridcolor": "#DFE8F3",
            "linecolor": "#A2B1C6",
            "ticks": ""
           },
           "baxis": {
            "gridcolor": "#DFE8F3",
            "linecolor": "#A2B1C6",
            "ticks": ""
           },
           "bgcolor": "white",
           "caxis": {
            "gridcolor": "#DFE8F3",
            "linecolor": "#A2B1C6",
            "ticks": ""
           }
          },
          "title": {
           "x": 0.05
          },
          "xaxis": {
           "automargin": true,
           "gridcolor": "#EBF0F8",
           "linecolor": "#EBF0F8",
           "ticks": "",
           "title": {
            "standoff": 15
           },
           "zerolinecolor": "#EBF0F8",
           "zerolinewidth": 2
          },
          "yaxis": {
           "automargin": true,
           "gridcolor": "#EBF0F8",
           "linecolor": "#EBF0F8",
           "ticks": "",
           "title": {
            "standoff": 15
           },
           "zerolinecolor": "#EBF0F8",
           "zerolinewidth": 2
          }
         }
        },
        "title": {
         "text": "Comparison of Observation Lengths (Violin Plot)"
        },
        "violinmode": "overlay",
        "xaxis": {
         "anchor": "y",
         "domain": [
          0,
          1
         ],
         "title": {
          "text": "Observation Length"
         }
        },
        "yaxis": {
         "anchor": "x",
         "categoryarray": [
          "New Length",
          "Original Length"
         ],
         "categoryorder": "array",
         "domain": [
          0,
          1
         ],
         "title": {
          "text": ""
         }
        }
       }
      }
     },
     "metadata": {},
     "output_type": "display_data"
    }
   ],
   "source": [
    "import plotly.express as px\n",
    "\n",
    "# Calculate main statistics\n",
    "mean_orig = df_example_processed['observation_length'].mean()\n",
    "mean_new = df_example_processed['observation_length_new'].mean()\n",
    "median_orig = df_example_processed['observation_length'].median()\n",
    "median_new = df_example_processed['observation_length_new'].median()\n",
    "std_orig = df_example_processed['observation_length'].std()\n",
    "std_new = df_example_processed['observation_length_new'].std()\n",
    "\n",
    "print(\"Observation Length Statistics:\")\n",
    "print(f\"Original: mean={mean_orig:.2f}, median={median_orig:.2f}, std={std_orig:.2f}\")\n",
    "print(f\"New     : mean={mean_new:.2f}, median={median_new:.2f}, std={std_new:.2f}\")\n",
    "\n",
    "df_plot = pd.DataFrame({\n",
    "    \"Type\": [\"Original Length\"] * len(df_example_processed) + [\"New Length\"] * len(df_example_processed),\n",
    "    \"Observation Length\": pd.concat([\n",
    "        df_example_processed[\"observation_length\"],\n",
    "        df_example_processed[\"observation_length_new\"]\n",
    "    ], ignore_index=True)\n",
    "})\n",
    "\n",
    "fig = px.violin(\n",
    "    df_plot,\n",
    "    x=\"Observation Length\",\n",
    "    y=\"Type\",\n",
    "    color=\"Type\",\n",
    "    box=True,\n",
    "    points=False,\n",
    "    orientation=\"h\",\n",
    "    color_discrete_map={\"Original Length\": \"#1f77b4\", \"New Length\": \"#ff7f0e\"},\n",
    "    template=\"plotly_white\"\n",
    ")\n",
    "fig.update_layout(\n",
    "    title=\"Comparison of Observation Lengths (Violin Plot)\",\n",
    "    font=dict(size=14),\n",
    "    plot_bgcolor='rgba(245,245,245,1)',\n",
    "    legend=dict(\n",
    "        orientation=\"h\",\n",
    "        yanchor=\"bottom\",\n",
    "        y=1.02,\n",
    "        xanchor=\"right\",\n",
    "        x=1\n",
    "    ),\n",
    "    xaxis_title=\"Observation Length\",\n",
    "    yaxis_title=\"\"\n",
    ")\n",
    "fig.show()"
   ]
  },
  {
   "cell_type": "code",
   "execution_count": 5,
   "id": "ef758092",
   "metadata": {},
   "outputs": [
    {
     "name": "stdout",
     "output_type": "stream",
     "text": [
      "Example of a long observation with newlines inserted for readability:\n",
      "Mantenimiento Programado.\n",
      "ot: 381397. se conectan ductos de admision y escape. se cambia union de turbo delantero izquie\n",
      "rdo. se instala mantas termicas. se retira arnes de motor diesel. se instala arnes de motor diesel y se rutea arnes. se \n",
      "elimina fuga por tubo succion direccion correspondiente a ot: 381397. se cambia conector de inyector numero 1. se rellen\n",
      "a aceite hidraulico direccion 144 lts. l.cisterna. \n",
      "ot: 401642. se realiza chequeo de compresor, correas y mangueras. pr\n",
      "esiones. se realiza cambio de termostato, presostato de alta y baja. cambio de filtros de cabina.\n",
      ". se realiza cambio de\n",
      " difusores, funda, sello puerta, ajuste y limpieza de chapas. chequeo de asiento y suspension. chequeo de cortina, radio\n",
      " musical, espejo panoramicos y chequeo electrico de cabina.\n",
      "Example of a long observation from the original data:\n",
      "en continuacion de trabajos asociados a 1/3 vida de motor diesel y trabajos pendientes, se realiza procedimiento de regu\n",
      "lación de válvulas e inyectores según pauta ok. se instalan abrazaderas de cañerías de petróleo. se lubrican turbos. se \n",
      "engrasa polea tensora. se instalan tapas de culatin. se chequean niveles y se rellena con 558 lts de refrigerante, 45 lt\n",
      "s de aceite motor, 31 lts de aceite transmision y 63 lts de aceite hidraulico ok. se chequean posibles fugas y se elimin\n",
      "a fuga de refrigerante por tapas turbos traseros. se elimina fuga de combustible por conector ecm motor. se realiza ceba\n",
      "do y se da puesta en marcha. se terminan puntos pendientes de pauta de mantencion y se realiza aseo cabina.   p.tapia – \n",
      "j.ramirez\n"
     ]
    }
   ],
   "source": [
    "# Insert a newline every 150 characters in observation for readability\n",
    "def insert_newlines(text, every=120):\n",
    "    return '\\n'.join([text[i:i+every] for i in range(0, len(text), every)])\n",
    "\n",
    "\n",
    "df_example_processed.sort_values(by='observation_length', ascending=False, inplace=True)\n",
    "\n",
    "row = df_example_processed.iloc[7]\n",
    "row2 = df_example[(df_example.Equipos == row.UnitId) & (df_example.Fecha_Actual == row.Date)].iloc[1]\n",
    "\n",
    "c = row.observation\n",
    "c2 = row2.Trabajo_Ejecutado\n",
    "\n",
    "print(\"Example of a long observation with newlines inserted for readability:\")\n",
    "print(insert_newlines(c))\n",
    "\n",
    "print(\"Example of a long observation from the original data:\")\n",
    "print(insert_newlines(c2))"
   ]
  },
  {
   "cell_type": "code",
   "execution_count": 6,
   "id": "a957acdd",
   "metadata": {},
   "outputs": [
    {
     "name": "stdout",
     "output_type": "stream",
     "text": [
      "Example of a long observation with newlines inserted for readability:\n",
      "Mantenimiento Programado.\n",
      "se comienza con mantencion programada pm 500 con numero de ot:520219 se posiciona equipo en lo\n",
      "za .se drena y rellena aceite de mazas 44 litros, se realiza cambio de filtro de motor transmision, convertidor, diferen\n",
      "cial y combustible. se realiza limpieza de conectores segun pauta. se realiza de conectores segun pauta, se realiza camb\n",
      "io de sellos segun pauta. se reprograman backlog. se comienza con predictivo ot:520221 se realiza toma de todas las mues\n",
      "tras y se rotulan. toma de fotografias y chequeo de rejillas y tapones magneticos. se realiza dialisis de hidraulico. ma\n",
      "ntener en observacion posicion 1 por fuga por sello espejo. se realiza ot:538702 por el cambio de sellos de conectores y\n",
      " fitting valvula control. se cambio sellos a tapon valvula control.––––\n",
      "Example of a long observation from the original data:\n",
      "se comienza con mantencion programada pm 500 con numero de ot:520219 se posiciona equipo en loza .se drena y rellena ace\n",
      "ite de mazas 44 litros, se realiza cambio de filtro de motor transmision, convertidor, diferencial y combustible. se rea\n",
      "liza limpieza de conectores según pauta. se realiza de conectores según pauta, se realiza cambio de sellos según pauta. \n",
      "se reprograman backlog. se comienza con predictivo ot:520221 se realiza toma de todas las muestras y se rotulan. toma de\n",
      " fotografías y chequeo de rejillas y tapones magnéticos. se realiza dialisis de hidraulico. mantener en observación pos \n",
      "1 por fuga por sello espejo. se realiza ot:538702 por el cambio de sellos de conectores y fitting valvula control. se ca\n",
      "mbio sellos a tapon valvula control.  u.hernandez – m.barraza – c.honores – n.sanchez – m.cabrera \n"
     ]
    }
   ],
   "source": [
    "Y = 2024\n",
    "W = 25\n",
    "path = f'data/to_process/maintenance_data_{Y}-{W:02d}.xlsx'\n",
    "\n",
    "df_example = read_data(path)\n",
    "df_example_processed = read_and_process_data(path, Y, W)\n",
    "df_example_processed.sort_values(by='observation_length', ascending=False, inplace=True)\n",
    "\n",
    "row = df_example_processed.iloc[7]\n",
    "row2 = df_example[(df_example.Equipos == row.UnitId) & (df_example.Fecha_Actual == row.Date)].iloc[1]\n",
    "\n",
    "c = row.observation\n",
    "c2 = row2.Trabajo_Ejecutado\n",
    "\n",
    "print(\"Example of a long observation with newlines inserted for readability:\")\n",
    "print(insert_newlines(c))\n",
    "\n",
    "print(\"Example of a long observation from the original data:\")\n",
    "print(insert_newlines(c2))"
   ]
  },
  {
   "cell_type": "code",
   "execution_count": 7,
   "id": "e7695c7d",
   "metadata": {},
   "outputs": [
    {
     "ename": "ValueError",
     "evalue": "No data available for the specified year and week.",
     "output_type": "error",
     "traceback": [
      "\u001b[31m---------------------------------------------------------------------------\u001b[39m",
      "\u001b[31mValueError\u001b[39m                                Traceback (most recent call last)",
      "\u001b[36mCell\u001b[39m\u001b[36m \u001b[39m\u001b[32mIn[7]\u001b[39m\u001b[32m, line 6\u001b[39m\n\u001b[32m      3\u001b[39m path = \u001b[33mf\u001b[39m\u001b[33m'\u001b[39m\u001b[33mdata/to_process/maintenance_data_\u001b[39m\u001b[38;5;132;01m{\u001b[39;00mY\u001b[38;5;132;01m}\u001b[39;00m\u001b[33m-\u001b[39m\u001b[38;5;132;01m{\u001b[39;00mW\u001b[38;5;132;01m:\u001b[39;00m\u001b[33m02d\u001b[39m\u001b[38;5;132;01m}\u001b[39;00m\u001b[33m.xlsx\u001b[39m\u001b[33m'\u001b[39m\n\u001b[32m      5\u001b[39m df_example = read_data(path)\n\u001b[32m----> \u001b[39m\u001b[32m6\u001b[39m df_example_processed = \u001b[43mread_and_process_data\u001b[49m\u001b[43m(\u001b[49m\u001b[43mpath\u001b[49m\u001b[43m,\u001b[49m\u001b[43m \u001b[49m\u001b[43mY\u001b[49m\u001b[43m,\u001b[49m\u001b[43m \u001b[49m\u001b[43mW\u001b[49m\u001b[43m)\u001b[49m\n\u001b[32m      7\u001b[39m df_example_processed.sort_values(by=\u001b[33m'\u001b[39m\u001b[33mobservation_length\u001b[39m\u001b[33m'\u001b[39m, ascending=\u001b[38;5;28;01mFalse\u001b[39;00m, inplace=\u001b[38;5;28;01mTrue\u001b[39;00m)\n\u001b[32m      9\u001b[39m row = df_example_processed.iloc[\u001b[32m7\u001b[39m]\n",
      "\u001b[36mFile \u001b[39m\u001b[32mc:\\Users\\patri\\Coddi\\Proyectos\\mantention_labeler\\src\\data_handler.py:1088\u001b[39m, in \u001b[36mread_and_process_data\u001b[39m\u001b[34m(file_path, year, week)\u001b[39m\n\u001b[32m   1077\u001b[39m \u001b[38;5;250m\u001b[39m\u001b[33;03m\"\"\"\u001b[39;00m\n\u001b[32m   1078\u001b[39m \u001b[33;03mRead and process the maintenance data from the specified file path.\u001b[39;00m\n\u001b[32m   1079\u001b[39m \u001b[33;03mParameters:\u001b[39;00m\n\u001b[32m   (...)\u001b[39m\u001b[32m   1084\u001b[39m \u001b[33;03m    pd.DataFrame: Processed DataFrame with maintenance records.\u001b[39;00m\n\u001b[32m   1085\u001b[39m \u001b[33;03m\"\"\"\u001b[39;00m\n\u001b[32m   1087\u001b[39m df = read_data(file_path)\n\u001b[32m-> \u001b[39m\u001b[32m1088\u001b[39m df = \u001b[43mprocess_data_structure\u001b[49m\u001b[43m(\u001b[49m\u001b[43mdf\u001b[49m\u001b[43m,\u001b[49m\u001b[43m \u001b[49m\u001b[43md_cols\u001b[49m\u001b[43m,\u001b[49m\u001b[43m \u001b[49m\u001b[43myear\u001b[49m\u001b[43m,\u001b[49m\u001b[43m \u001b[49m\u001b[43mweek\u001b[49m\u001b[43m)\u001b[49m\n\u001b[32m   1089\u001b[39m df = clean_comments(df)\n\u001b[32m   1090\u001b[39m df = filter_data(df)\n",
      "\u001b[36mFile \u001b[39m\u001b[32mc:\\Users\\patri\\Coddi\\Proyectos\\mantention_labeler\\src\\data_handler.py:131\u001b[39m, in \u001b[36mprocess_data_structure\u001b[39m\u001b[34m(df, column_name_dictionary, years, week)\u001b[39m\n\u001b[32m    128\u001b[39m df.reset_index(drop=\u001b[38;5;28;01mTrue\u001b[39;00m, inplace=\u001b[38;5;28;01mTrue\u001b[39;00m) \u001b[38;5;66;03m# Step 13: Reset the index of the DataFrame\u001b[39;00m\n\u001b[32m    130\u001b[39m \u001b[38;5;28;01mif\u001b[39;00m \u001b[38;5;28mlen\u001b[39m(df) == \u001b[32m0\u001b[39m:\n\u001b[32m--> \u001b[39m\u001b[32m131\u001b[39m     \u001b[38;5;28;01mraise\u001b[39;00m \u001b[38;5;167;01mValueError\u001b[39;00m(\u001b[33m\"\u001b[39m\u001b[33mNo data available for the specified year and week.\u001b[39m\u001b[33m\"\u001b[39m)\n\u001b[32m    133\u001b[39m \u001b[38;5;28;01melse\u001b[39;00m:\n\u001b[32m    134\u001b[39m     \u001b[38;5;28;01mreturn\u001b[39;00m df\n",
      "\u001b[31mValueError\u001b[39m: No data available for the specified year and week."
     ]
    }
   ],
   "source": [
    "Y = 2022\n",
    "W = 8\n",
    "path = f'data/to_process/maintenance_data_{Y}-{W:02d}.xlsx'\n",
    "\n",
    "df_example = read_data(path)\n",
    "df_example_processed = read_and_process_data(path, Y, W)\n",
    "df_example_processed.sort_values(by='observation_length', ascending=False, inplace=True)\n",
    "\n",
    "row = df_example_processed.iloc[7]\n",
    "row2 = df_example[(df_example.Equipos == row.UnitId) & (df_example.Fecha_Actual == row.Date)].iloc[0]\n",
    "\n",
    "c = row.observation\n",
    "c2 = row2.Trabajo_Ejecutado\n",
    "\n",
    "print(\"Example of a long observation with newlines inserted for readability:\")\n",
    "print(insert_newlines(c))\n",
    "\n",
    "print(\"\\n\\nExample of a long observation from the original data:\")\n",
    "print(insert_newlines(c2))"
   ]
  },
  {
   "cell_type": "code",
   "execution_count": null,
   "id": "f19276eb",
   "metadata": {},
   "outputs": [
    {
     "data": {
      "text/plain": [
       "'Mantenimiento Programado.\\not: 347863. cambio de front corner izquierdo. se retiran mangueras de enfriamiento freno izquierdo y se fabrican nuevas en emsesa con 15 cm. adicional. se rellena aceite hidraulico implemento 150 lts. y aceite a masa izquierda 22 lts. se carga suspension con pulgada de aceite y 9 pulgadas de nitrogeno. se cambia valvula de carga suspension.\\npersonal , realiza instalacion de neumatico posicion 01 segun procedimiento. '"
      ]
     },
     "execution_count": 50,
     "metadata": {},
     "output_type": "execute_result"
    }
   ],
   "source": [
    "c"
   ]
  },
  {
   "cell_type": "code",
   "execution_count": 8,
   "id": "dd6b8e36",
   "metadata": {},
   "outputs": [
    {
     "name": "stdout",
     "output_type": "stream",
     "text": [
      "Example of a long observation with newlines inserted for readability:\n",
      "Mantenimiento Programado.\n",
      "\n",
      "\n",
      "\n",
      "Example of a long observation from the original data:\n",
      "trabajos asociados a rebuilding por parte de finning\n"
     ]
    }
   ],
   "source": [
    "Y = 2025\n",
    "W = 29\n",
    "path = f'data/to_process/maintenance_data_{Y}-{W:02d}.xlsx'\n",
    "\n",
    "df_example = read_data(path)\n",
    "df_example_processed = read_and_process_data(path, Y, W)\n",
    "df_example_processed.sort_values(by='observation_length', ascending=False, inplace=True)\n",
    "\n",
    "row = df_example_processed.iloc[7]\n",
    "row2 = df_example[(df_example.Equipos == row.UnitId) & (df_example.Fecha_Actual == row.Date)].iloc[0]\n",
    "\n",
    "c = row.observation\n",
    "c2 = row2.Trabajo_Ejecutado\n",
    "\n",
    "print(\"Example of a long observation with newlines inserted for readability:\")\n",
    "print(insert_newlines(c))\n",
    "\n",
    "print(\"\\n\\nExample of a long observation from the original data:\")\n",
    "print(insert_newlines(c2))"
   ]
  },
  {
   "cell_type": "code",
   "execution_count": 10,
   "id": "96f1cda0",
   "metadata": {},
   "outputs": [
    {
     "data": {
      "text/html": [
       "<div>\n",
       "<style scoped>\n",
       "    .dataframe tbody tr th:only-of-type {\n",
       "        vertical-align: middle;\n",
       "    }\n",
       "\n",
       "    .dataframe tbody tr th {\n",
       "        vertical-align: top;\n",
       "    }\n",
       "\n",
       "    .dataframe thead th {\n",
       "        text-align: right;\n",
       "    }\n",
       "</style>\n",
       "<table border=\"1\" class=\"dataframe\">\n",
       "  <thead>\n",
       "    <tr style=\"text-align: right;\">\n",
       "      <th></th>\n",
       "      <th>Equipos</th>\n",
       "      <th>Horómetro</th>\n",
       "      <th>Fecha_Actual</th>\n",
       "      <th>Hora_de_Detención</th>\n",
       "      <th>Hora_de_Entrega</th>\n",
       "      <th>Tiempo_FS</th>\n",
       "      <th>Nro_Personas</th>\n",
       "      <th>Horas_Persona</th>\n",
       "      <th>Sistema</th>\n",
       "      <th>Sub_Sistemas</th>\n",
       "      <th>Tipo_de_Detención</th>\n",
       "      <th>Trabajo_Ejecutado</th>\n",
       "      <th>Nº_OT</th>\n",
       "      <th>Nº_Backlog</th>\n",
       "      <th>Status_Final</th>\n",
       "      <th>Trabajos_Pendientes</th>\n",
       "      <th>Jefe_de_Turno</th>\n",
       "      <th>Turnos</th>\n",
       "    </tr>\n",
       "  </thead>\n",
       "  <tbody>\n",
       "    <tr>\n",
       "      <th>0</th>\n",
       "      <td>T_09</td>\n",
       "      <td>109967</td>\n",
       "      <td>2025-07-20</td>\n",
       "      <td>07:00:00</td>\n",
       "      <td>19:00:00</td>\n",
       "      <td>12.00</td>\n",
       "      <td>0</td>\n",
       "      <td>0.00</td>\n",
       "      <td>T_Mantencion</td>\n",
       "      <td>Mant. Mayor</td>\n",
       "      <td>Programada</td>\n",
       "      <td>trabajos asociados a rebuilding por parte de f...</td>\n",
       "      <td>0</td>\n",
       "      <td>NaN</td>\n",
       "      <td>En Reparacion/Mantencion</td>\n",
       "      <td>NaN</td>\n",
       "      <td>Francisco Ogalde</td>\n",
       "      <td>Dia</td>\n",
       "    </tr>\n",
       "    <tr>\n",
       "      <th>1</th>\n",
       "      <td>T_17</td>\n",
       "      <td>100897</td>\n",
       "      <td>2025-07-20</td>\n",
       "      <td>07:00:00</td>\n",
       "      <td>19:00:00</td>\n",
       "      <td>12.00</td>\n",
       "      <td>3</td>\n",
       "      <td>36.00</td>\n",
       "      <td>T_Mantencion</td>\n",
       "      <td>Mant. Mayor</td>\n",
       "      <td>Programada</td>\n",
       "      <td>se comienza con búsqueda de arnes del diferenc...</td>\n",
       "      <td>0</td>\n",
       "      <td>NaN</td>\n",
       "      <td>En Reparacion/Mantencion</td>\n",
       "      <td>Personal maestranza mys rematar trabajo de rep...</td>\n",
       "      <td>Francisco Ogalde</td>\n",
       "      <td>Dia</td>\n",
       "    </tr>\n",
       "    <tr>\n",
       "      <th>2</th>\n",
       "      <td>T_15</td>\n",
       "      <td>98563</td>\n",
       "      <td>2025-07-20</td>\n",
       "      <td>09:02:00</td>\n",
       "      <td>09:25:00</td>\n",
       "      <td>0.38</td>\n",
       "      <td>2</td>\n",
       "      <td>0.76</td>\n",
       "      <td>T_Mantencion</td>\n",
       "      <td>Relleno de Fluidos</td>\n",
       "      <td>Operacional</td>\n",
       "      <td>se chequea filtración aceite motor encontrándo...</td>\n",
       "      <td>0</td>\n",
       "      <td>NaN</td>\n",
       "      <td>Operativo</td>\n",
       "      <td>mantener en observación aceite motor.</td>\n",
       "      <td>Francisco Ogalde</td>\n",
       "      <td>Dia</td>\n",
       "    </tr>\n",
       "    <tr>\n",
       "      <th>3</th>\n",
       "      <td>T_12</td>\n",
       "      <td>110371</td>\n",
       "      <td>2025-07-20</td>\n",
       "      <td>09:30:00</td>\n",
       "      <td>09:46:00</td>\n",
       "      <td>0.27</td>\n",
       "      <td>2</td>\n",
       "      <td>0.54</td>\n",
       "      <td>T_Mantencion</td>\n",
       "      <td>Relleno de Fluidos</td>\n",
       "      <td>Operacional</td>\n",
       "      <td>se atiende equipo para relleno de aceite hidrá...</td>\n",
       "      <td>0</td>\n",
       "      <td>NaN</td>\n",
       "      <td>Operativo</td>\n",
       "      <td>mantener en observación falla transmisión.</td>\n",
       "      <td>Francisco Ogalde</td>\n",
       "      <td>Dia</td>\n",
       "    </tr>\n",
       "    <tr>\n",
       "      <th>4</th>\n",
       "      <td>T_24</td>\n",
       "      <td>15610</td>\n",
       "      <td>2025-07-20</td>\n",
       "      <td>17:21:00</td>\n",
       "      <td>19:00:00</td>\n",
       "      <td>1.65</td>\n",
       "      <td>0</td>\n",
       "      <td>0.00</td>\n",
       "      <td>T_Mantencion</td>\n",
       "      <td>1/3 Vida</td>\n",
       "      <td>Programada</td>\n",
       "      <td>equipo ingresa a taller por 1/3 de vida. equip...</td>\n",
       "      <td>0</td>\n",
       "      <td>NaN</td>\n",
       "      <td>En Reparacion/Mantencion</td>\n",
       "      <td>NaN</td>\n",
       "      <td>Francisco Ogalde</td>\n",
       "      <td>Dia</td>\n",
       "    </tr>\n",
       "    <tr>\n",
       "      <th>5</th>\n",
       "      <td>T_09</td>\n",
       "      <td>109967</td>\n",
       "      <td>2025-07-20</td>\n",
       "      <td>19:00:00</td>\n",
       "      <td>07:00:00</td>\n",
       "      <td>12.00</td>\n",
       "      <td>2</td>\n",
       "      <td>24.00</td>\n",
       "      <td>T_Mantencion</td>\n",
       "      <td>Mant. Mayor</td>\n",
       "      <td>Programada</td>\n",
       "      <td>se realiza engrase de suspensión delantera izq...</td>\n",
       "      <td>0</td>\n",
       "      <td>NaN</td>\n",
       "      <td>En Reparacion/Mantencion</td>\n",
       "      <td>NaN</td>\n",
       "      <td>Pablo Vega</td>\n",
       "      <td>Noche</td>\n",
       "    </tr>\n",
       "    <tr>\n",
       "      <th>6</th>\n",
       "      <td>T_17</td>\n",
       "      <td>100897</td>\n",
       "      <td>2025-07-20</td>\n",
       "      <td>19:00:00</td>\n",
       "      <td>07:00:00</td>\n",
       "      <td>12.00</td>\n",
       "      <td>0</td>\n",
       "      <td>0.00</td>\n",
       "      <td>T_Mantencion</td>\n",
       "      <td>Mant. Mayor</td>\n",
       "      <td>Programada</td>\n",
       "      <td>no se realizan trabajos durante turno noche.</td>\n",
       "      <td>0</td>\n",
       "      <td>NaN</td>\n",
       "      <td>En Reparacion/Mantencion</td>\n",
       "      <td>NaN</td>\n",
       "      <td>Pablo Vega</td>\n",
       "      <td>Noche</td>\n",
       "    </tr>\n",
       "    <tr>\n",
       "      <th>7</th>\n",
       "      <td>T_24</td>\n",
       "      <td>15610</td>\n",
       "      <td>2025-07-20</td>\n",
       "      <td>19:00:00</td>\n",
       "      <td>07:00:00</td>\n",
       "      <td>12.00</td>\n",
       "      <td>6</td>\n",
       "      <td>72.00</td>\n",
       "      <td>T_Mantencion</td>\n",
       "      <td>1/3 Vida</td>\n",
       "      <td>Programada</td>\n",
       "      <td>Ot. 534170 lavado completo equipo, se realiza ...</td>\n",
       "      <td>0</td>\n",
       "      <td>NaN</td>\n",
       "      <td>En Reparacion/Mantencion</td>\n",
       "      <td>Continuar con 1/3 vida</td>\n",
       "      <td>Pablo Vega</td>\n",
       "      <td>Noche</td>\n",
       "    </tr>\n",
       "    <tr>\n",
       "      <th>8</th>\n",
       "      <td>T_09</td>\n",
       "      <td>109070</td>\n",
       "      <td>2025-07-21</td>\n",
       "      <td>07:00:00</td>\n",
       "      <td>19:00:00</td>\n",
       "      <td>12.00</td>\n",
       "      <td>0</td>\n",
       "      <td>0.00</td>\n",
       "      <td>T_Mantencion</td>\n",
       "      <td>Mant. Mayor</td>\n",
       "      <td>Programada</td>\n",
       "      <td>trabajos asociados a rebuilding por parte de f...</td>\n",
       "      <td>0</td>\n",
       "      <td>NaN</td>\n",
       "      <td>En Reparacion/Mantencion</td>\n",
       "      <td>NaN</td>\n",
       "      <td>Francisco Ogalde</td>\n",
       "      <td>Dia</td>\n",
       "    </tr>\n",
       "    <tr>\n",
       "      <th>9</th>\n",
       "      <td>T_17</td>\n",
       "      <td>100897</td>\n",
       "      <td>2025-07-21</td>\n",
       "      <td>07:00:00</td>\n",
       "      <td>19:00:00</td>\n",
       "      <td>12.00</td>\n",
       "      <td>0</td>\n",
       "      <td>0.00</td>\n",
       "      <td>T_Mantencion</td>\n",
       "      <td>Mant. Mayor</td>\n",
       "      <td>Programada</td>\n",
       "      <td>pendiente por mys maestransa</td>\n",
       "      <td>0</td>\n",
       "      <td>NaN</td>\n",
       "      <td>En Reparacion/Mantencion</td>\n",
       "      <td>NaN</td>\n",
       "      <td>Francisco Ogalde</td>\n",
       "      <td>Dia</td>\n",
       "    </tr>\n",
       "    <tr>\n",
       "      <th>10</th>\n",
       "      <td>T_24</td>\n",
       "      <td>15610</td>\n",
       "      <td>2025-07-21</td>\n",
       "      <td>07:00:00</td>\n",
       "      <td>19:00:00</td>\n",
       "      <td>12.00</td>\n",
       "      <td>7</td>\n",
       "      <td>84.00</td>\n",
       "      <td>T_Mantencion</td>\n",
       "      <td>1/3 Vida</td>\n",
       "      <td>Programada</td>\n",
       "      <td>pendiente</td>\n",
       "      <td>0</td>\n",
       "      <td>NaN</td>\n",
       "      <td>En Reparacion/Mantencion</td>\n",
       "      <td>NaN</td>\n",
       "      <td>Francisco Ogalde</td>\n",
       "      <td>Dia</td>\n",
       "    </tr>\n",
       "  </tbody>\n",
       "</table>\n",
       "</div>"
      ],
      "text/plain": [
       "   Equipos  Horómetro Fecha_Actual Hora_de_Detención Hora_de_Entrega  \\\n",
       "0     T_09     109967   2025-07-20          07:00:00        19:00:00   \n",
       "1     T_17     100897   2025-07-20          07:00:00        19:00:00   \n",
       "2     T_15      98563   2025-07-20          09:02:00        09:25:00   \n",
       "3     T_12     110371   2025-07-20          09:30:00        09:46:00   \n",
       "4     T_24      15610   2025-07-20          17:21:00        19:00:00   \n",
       "5     T_09     109967   2025-07-20          19:00:00        07:00:00   \n",
       "6     T_17     100897   2025-07-20          19:00:00        07:00:00   \n",
       "7     T_24      15610   2025-07-20          19:00:00        07:00:00   \n",
       "8     T_09     109070   2025-07-21          07:00:00        19:00:00   \n",
       "9     T_17     100897   2025-07-21          07:00:00        19:00:00   \n",
       "10    T_24      15610   2025-07-21          07:00:00        19:00:00   \n",
       "\n",
       "    Tiempo_FS  Nro_Personas  Horas_Persona       Sistema        Sub_Sistemas  \\\n",
       "0       12.00             0           0.00  T_Mantencion         Mant. Mayor   \n",
       "1       12.00             3          36.00  T_Mantencion         Mant. Mayor   \n",
       "2        0.38             2           0.76  T_Mantencion  Relleno de Fluidos   \n",
       "3        0.27             2           0.54  T_Mantencion  Relleno de Fluidos   \n",
       "4        1.65             0           0.00  T_Mantencion            1/3 Vida   \n",
       "5       12.00             2          24.00  T_Mantencion         Mant. Mayor   \n",
       "6       12.00             0           0.00  T_Mantencion         Mant. Mayor   \n",
       "7       12.00             6          72.00  T_Mantencion            1/3 Vida   \n",
       "8       12.00             0           0.00  T_Mantencion         Mant. Mayor   \n",
       "9       12.00             0           0.00  T_Mantencion         Mant. Mayor   \n",
       "10      12.00             7          84.00  T_Mantencion            1/3 Vida   \n",
       "\n",
       "   Tipo_de_Detención                                  Trabajo_Ejecutado  \\\n",
       "0         Programada  trabajos asociados a rebuilding por parte de f...   \n",
       "1         Programada  se comienza con búsqueda de arnes del diferenc...   \n",
       "2        Operacional  se chequea filtración aceite motor encontrándo...   \n",
       "3        Operacional  se atiende equipo para relleno de aceite hidrá...   \n",
       "4         Programada  equipo ingresa a taller por 1/3 de vida. equip...   \n",
       "5         Programada  se realiza engrase de suspensión delantera izq...   \n",
       "6         Programada       no se realizan trabajos durante turno noche.   \n",
       "7         Programada  Ot. 534170 lavado completo equipo, se realiza ...   \n",
       "8         Programada  trabajos asociados a rebuilding por parte de f...   \n",
       "9         Programada                       pendiente por mys maestransa   \n",
       "10        Programada                                          pendiente   \n",
       "\n",
       "    Nº_OT  Nº_Backlog              Status_Final  \\\n",
       "0       0         NaN  En Reparacion/Mantencion   \n",
       "1       0         NaN  En Reparacion/Mantencion   \n",
       "2       0         NaN                 Operativo   \n",
       "3       0         NaN                 Operativo   \n",
       "4       0         NaN  En Reparacion/Mantencion   \n",
       "5       0         NaN  En Reparacion/Mantencion   \n",
       "6       0         NaN  En Reparacion/Mantencion   \n",
       "7       0         NaN  En Reparacion/Mantencion   \n",
       "8       0         NaN  En Reparacion/Mantencion   \n",
       "9       0         NaN  En Reparacion/Mantencion   \n",
       "10      0         NaN  En Reparacion/Mantencion   \n",
       "\n",
       "                                  Trabajos_Pendientes     Jefe_de_Turno Turnos  \n",
       "0                                                 NaN  Francisco Ogalde    Dia  \n",
       "1   Personal maestranza mys rematar trabajo de rep...  Francisco Ogalde    Dia  \n",
       "2              mantener en observación aceite motor.   Francisco Ogalde    Dia  \n",
       "3         mantener en observación falla transmisión.   Francisco Ogalde    Dia  \n",
       "4                                                 NaN  Francisco Ogalde    Dia  \n",
       "5                                                 NaN        Pablo Vega  Noche  \n",
       "6                                                 NaN        Pablo Vega  Noche  \n",
       "7                              Continuar con 1/3 vida        Pablo Vega  Noche  \n",
       "8                                                 NaN  Francisco Ogalde    Dia  \n",
       "9                                                 NaN  Francisco Ogalde    Dia  \n",
       "10                                                NaN  Francisco Ogalde    Dia  "
      ]
     },
     "execution_count": 10,
     "metadata": {},
     "output_type": "execute_result"
    }
   ],
   "source": [
    "df_example"
   ]
  },
  {
   "cell_type": "code",
   "execution_count": 13,
   "id": "4428f093",
   "metadata": {},
   "outputs": [
    {
     "data": {
      "text/html": [
       "<div>\n",
       "<style scoped>\n",
       "    .dataframe tbody tr th:only-of-type {\n",
       "        vertical-align: middle;\n",
       "    }\n",
       "\n",
       "    .dataframe tbody tr th {\n",
       "        vertical-align: top;\n",
       "    }\n",
       "\n",
       "    .dataframe thead th {\n",
       "        text-align: right;\n",
       "    }\n",
       "</style>\n",
       "<table border=\"1\" class=\"dataframe\">\n",
       "  <thead>\n",
       "    <tr style=\"text-align: right;\">\n",
       "      <th></th>\n",
       "      <th>UnitId</th>\n",
       "      <th>Date</th>\n",
       "      <th>start_time</th>\n",
       "      <th>end_time</th>\n",
       "      <th>time_FS</th>\n",
       "      <th>System</th>\n",
       "      <th>Subsystem</th>\n",
       "      <th>type_detention</th>\n",
       "      <th>observation</th>\n",
       "      <th>observation_length</th>\n",
       "      <th>observation_length_new</th>\n",
       "      <th>isMantention</th>\n",
       "      <th>empty_obs</th>\n",
       "    </tr>\n",
       "  </thead>\n",
       "  <tbody>\n",
       "    <tr>\n",
       "      <th>9</th>\n",
       "      <td>T_24</td>\n",
       "      <td>2025-07-20</td>\n",
       "      <td>2025-07-20 19:00:00</td>\n",
       "      <td>2025-07-21 07:00:00</td>\n",
       "      <td>12.00</td>\n",
       "      <td>Mantencion</td>\n",
       "      <td>1/3 Vida</td>\n",
       "      <td>Programada</td>\n",
       "      <td>Mantenimiento Programado.\\not. 534170 lavado c...</td>\n",
       "      <td>803</td>\n",
       "      <td>803</td>\n",
       "      <td>Si (1/3 Vida).</td>\n",
       "      <td>False</td>\n",
       "    </tr>\n",
       "    <tr>\n",
       "      <th>5</th>\n",
       "      <td>T_17</td>\n",
       "      <td>2025-07-20</td>\n",
       "      <td>2025-07-20 07:00:00</td>\n",
       "      <td>2025-07-20 19:00:00</td>\n",
       "      <td>12.00</td>\n",
       "      <td>Mantencion</td>\n",
       "      <td>Mant. Mayor</td>\n",
       "      <td>Programada</td>\n",
       "      <td>Mantenimiento Programado.\\nse comienza con bus...</td>\n",
       "      <td>439</td>\n",
       "      <td>439</td>\n",
       "      <td>Si (Mant. Mayor).</td>\n",
       "      <td>False</td>\n",
       "    </tr>\n",
       "    <tr>\n",
       "      <th>4</th>\n",
       "      <td>T_15</td>\n",
       "      <td>2025-07-20</td>\n",
       "      <td>2025-07-20 09:02:00</td>\n",
       "      <td>2025-07-20 09:25:00</td>\n",
       "      <td>0.38</td>\n",
       "      <td>Mantencion</td>\n",
       "      <td>Relleno de Fluidos</td>\n",
       "      <td>Operacional</td>\n",
       "      <td>se chequea filtracion aceite motor encontrando...</td>\n",
       "      <td>211</td>\n",
       "      <td>211</td>\n",
       "      <td>No.</td>\n",
       "      <td>False</td>\n",
       "    </tr>\n",
       "    <tr>\n",
       "      <th>1</th>\n",
       "      <td>T_09</td>\n",
       "      <td>2025-07-20</td>\n",
       "      <td>2025-07-20 19:00:00</td>\n",
       "      <td>2025-07-21 07:00:00</td>\n",
       "      <td>12.00</td>\n",
       "      <td>Mantencion</td>\n",
       "      <td>Mant. Mayor</td>\n",
       "      <td>Programada</td>\n",
       "      <td>Mantenimiento Programado.\\n</td>\n",
       "      <td>169</td>\n",
       "      <td>0</td>\n",
       "      <td>Si (Mant. Mayor).</td>\n",
       "      <td>True</td>\n",
       "    </tr>\n",
       "    <tr>\n",
       "      <th>3</th>\n",
       "      <td>T_12</td>\n",
       "      <td>2025-07-20</td>\n",
       "      <td>2025-07-20 09:30:00</td>\n",
       "      <td>2025-07-20 09:46:00</td>\n",
       "      <td>0.27</td>\n",
       "      <td>Mantencion</td>\n",
       "      <td>Relleno de Fluidos</td>\n",
       "      <td>Operacional</td>\n",
       "      <td>se atiende equipo para relleno de aceite hidra...</td>\n",
       "      <td>149</td>\n",
       "      <td>149</td>\n",
       "      <td>No.</td>\n",
       "      <td>False</td>\n",
       "    </tr>\n",
       "    <tr>\n",
       "      <th>8</th>\n",
       "      <td>T_24</td>\n",
       "      <td>2025-07-20</td>\n",
       "      <td>2025-07-20 17:21:00</td>\n",
       "      <td>2025-07-20 19:00:00</td>\n",
       "      <td>1.65</td>\n",
       "      <td>Mantencion</td>\n",
       "      <td>1/3 Vida</td>\n",
       "      <td>Programada</td>\n",
       "      <td>Mantenimiento Programado.\\n</td>\n",
       "      <td>72</td>\n",
       "      <td>0</td>\n",
       "      <td>Si (1/3 Vida).</td>\n",
       "      <td>True</td>\n",
       "    </tr>\n",
       "    <tr>\n",
       "      <th>6</th>\n",
       "      <td>T_17</td>\n",
       "      <td>2025-07-20</td>\n",
       "      <td>2025-07-20 19:00:00</td>\n",
       "      <td>2025-07-21 07:00:00</td>\n",
       "      <td>12.00</td>\n",
       "      <td>Mantencion</td>\n",
       "      <td>Mant. Mayor</td>\n",
       "      <td>Programada</td>\n",
       "      <td>Mantenimiento Programado.\\n</td>\n",
       "      <td>44</td>\n",
       "      <td>0</td>\n",
       "      <td>Si (Mant. Mayor).</td>\n",
       "      <td>True</td>\n",
       "    </tr>\n",
       "    <tr>\n",
       "      <th>2</th>\n",
       "      <td>T_09</td>\n",
       "      <td>2025-07-21</td>\n",
       "      <td>2025-07-21 07:00:00</td>\n",
       "      <td>2025-07-21 19:00:00</td>\n",
       "      <td>12.00</td>\n",
       "      <td>Mantencion</td>\n",
       "      <td>Mant. Mayor</td>\n",
       "      <td>Programada</td>\n",
       "      <td>Mantenimiento Programado.\\n</td>\n",
       "      <td>42</td>\n",
       "      <td>0</td>\n",
       "      <td>Si (Mant. Mayor).</td>\n",
       "      <td>True</td>\n",
       "    </tr>\n",
       "    <tr>\n",
       "      <th>0</th>\n",
       "      <td>T_09</td>\n",
       "      <td>2025-07-20</td>\n",
       "      <td>2025-07-20 07:00:00</td>\n",
       "      <td>2025-07-20 19:00:00</td>\n",
       "      <td>12.00</td>\n",
       "      <td>Mantencion</td>\n",
       "      <td>Mant. Mayor</td>\n",
       "      <td>Programada</td>\n",
       "      <td>Mantenimiento Programado.\\n</td>\n",
       "      <td>42</td>\n",
       "      <td>0</td>\n",
       "      <td>Si (Mant. Mayor).</td>\n",
       "      <td>True</td>\n",
       "    </tr>\n",
       "    <tr>\n",
       "      <th>7</th>\n",
       "      <td>T_17</td>\n",
       "      <td>2025-07-21</td>\n",
       "      <td>2025-07-21 07:00:00</td>\n",
       "      <td>2025-07-21 19:00:00</td>\n",
       "      <td>12.00</td>\n",
       "      <td>Mantencion</td>\n",
       "      <td>Mant. Mayor</td>\n",
       "      <td>Programada</td>\n",
       "      <td>Mantenimiento Programado.\\n</td>\n",
       "      <td>28</td>\n",
       "      <td>0</td>\n",
       "      <td>Si (Mant. Mayor).</td>\n",
       "      <td>True</td>\n",
       "    </tr>\n",
       "    <tr>\n",
       "      <th>10</th>\n",
       "      <td>T_24</td>\n",
       "      <td>2025-07-21</td>\n",
       "      <td>2025-07-21 07:00:00</td>\n",
       "      <td>2025-07-21 19:00:00</td>\n",
       "      <td>12.00</td>\n",
       "      <td>Mantencion</td>\n",
       "      <td>1/3 Vida</td>\n",
       "      <td>Programada</td>\n",
       "      <td>Mantenimiento Programado.\\n</td>\n",
       "      <td>9</td>\n",
       "      <td>0</td>\n",
       "      <td>Si (1/3 Vida).</td>\n",
       "      <td>True</td>\n",
       "    </tr>\n",
       "  </tbody>\n",
       "</table>\n",
       "</div>"
      ],
      "text/plain": [
       "   UnitId       Date          start_time            end_time  time_FS  \\\n",
       "9    T_24 2025-07-20 2025-07-20 19:00:00 2025-07-21 07:00:00    12.00   \n",
       "5    T_17 2025-07-20 2025-07-20 07:00:00 2025-07-20 19:00:00    12.00   \n",
       "4    T_15 2025-07-20 2025-07-20 09:02:00 2025-07-20 09:25:00     0.38   \n",
       "1    T_09 2025-07-20 2025-07-20 19:00:00 2025-07-21 07:00:00    12.00   \n",
       "3    T_12 2025-07-20 2025-07-20 09:30:00 2025-07-20 09:46:00     0.27   \n",
       "8    T_24 2025-07-20 2025-07-20 17:21:00 2025-07-20 19:00:00     1.65   \n",
       "6    T_17 2025-07-20 2025-07-20 19:00:00 2025-07-21 07:00:00    12.00   \n",
       "2    T_09 2025-07-21 2025-07-21 07:00:00 2025-07-21 19:00:00    12.00   \n",
       "0    T_09 2025-07-20 2025-07-20 07:00:00 2025-07-20 19:00:00    12.00   \n",
       "7    T_17 2025-07-21 2025-07-21 07:00:00 2025-07-21 19:00:00    12.00   \n",
       "10   T_24 2025-07-21 2025-07-21 07:00:00 2025-07-21 19:00:00    12.00   \n",
       "\n",
       "        System           Subsystem type_detention  \\\n",
       "9   Mantencion            1/3 Vida     Programada   \n",
       "5   Mantencion         Mant. Mayor     Programada   \n",
       "4   Mantencion  Relleno de Fluidos    Operacional   \n",
       "1   Mantencion         Mant. Mayor     Programada   \n",
       "3   Mantencion  Relleno de Fluidos    Operacional   \n",
       "8   Mantencion            1/3 Vida     Programada   \n",
       "6   Mantencion         Mant. Mayor     Programada   \n",
       "2   Mantencion         Mant. Mayor     Programada   \n",
       "0   Mantencion         Mant. Mayor     Programada   \n",
       "7   Mantencion         Mant. Mayor     Programada   \n",
       "10  Mantencion            1/3 Vida     Programada   \n",
       "\n",
       "                                          observation  observation_length  \\\n",
       "9   Mantenimiento Programado.\\not. 534170 lavado c...                 803   \n",
       "5   Mantenimiento Programado.\\nse comienza con bus...                 439   \n",
       "4   se chequea filtracion aceite motor encontrando...                 211   \n",
       "1                         Mantenimiento Programado.\\n                 169   \n",
       "3   se atiende equipo para relleno de aceite hidra...                 149   \n",
       "8                         Mantenimiento Programado.\\n                  72   \n",
       "6                         Mantenimiento Programado.\\n                  44   \n",
       "2                         Mantenimiento Programado.\\n                  42   \n",
       "0                         Mantenimiento Programado.\\n                  42   \n",
       "7                         Mantenimiento Programado.\\n                  28   \n",
       "10                        Mantenimiento Programado.\\n                   9   \n",
       "\n",
       "    observation_length_new       isMantention  empty_obs  \n",
       "9                      803     Si (1/3 Vida).      False  \n",
       "5                      439  Si (Mant. Mayor).      False  \n",
       "4                      211                No.      False  \n",
       "1                        0  Si (Mant. Mayor).       True  \n",
       "3                      149                No.      False  \n",
       "8                        0     Si (1/3 Vida).       True  \n",
       "6                        0  Si (Mant. Mayor).       True  \n",
       "2                        0  Si (Mant. Mayor).       True  \n",
       "0                        0  Si (Mant. Mayor).       True  \n",
       "7                        0  Si (Mant. Mayor).       True  \n",
       "10                       0     Si (1/3 Vida).       True  "
      ]
     },
     "execution_count": 13,
     "metadata": {},
     "output_type": "execute_result"
    }
   ],
   "source": [
    "df_example_processed"
   ]
  }
 ],
 "metadata": {
  "kernelspec": {
   "display_name": ".venv",
   "language": "python",
   "name": "python3"
  },
  "language_info": {
   "codemirror_mode": {
    "name": "ipython",
    "version": 3
   },
   "file_extension": ".py",
   "mimetype": "text/x-python",
   "name": "python",
   "nbconvert_exporter": "python",
   "pygments_lexer": "ipython3",
   "version": "3.12.10"
  }
 },
 "nbformat": 4,
 "nbformat_minor": 5
}
