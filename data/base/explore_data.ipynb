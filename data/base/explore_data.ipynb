{
 "cells": [
  {
   "cell_type": "code",
   "execution_count": null,
   "id": "dbb598e8",
   "metadata": {},
   "outputs": [],
   "source": [
    "import pandas as pd\n",
    "import os"
   ]
  },
  {
   "cell_type": "code",
   "execution_count": null,
   "id": "cc7ec2b8",
   "metadata": {},
   "outputs": [],
   "source": [
    "df1 = pd.read_excel('maintenance_data.xlsx')\n",
    "df2 = pd.read_excel('mantenciones2425.xlsx', header=9)\n",
    "\n",
    "df = pd.concat([df1, df2], ignore_index=True)\n",
    "df = df[df.Equipos.isin(['T_09', 'T_11', 'T_12', 'T_13', 'T_14',\n",
    "                         'T_15', 'T_16', 'T_17', 'T_18', 'T_24'])]\n",
    "\n",
    "df.drop_duplicates(subset=['Equipos', 'Fecha_Actual', 'Hora_de_Detención'],\n",
    "                   inplace=True)\n",
    "\n",
    "df\n"
   ]
  },
  {
   "cell_type": "code",
   "execution_count": null,
   "id": "fb6db5f4",
   "metadata": {},
   "outputs": [],
   "source": [
    "df.to_excel('data/maintenance_data_raw.xlsx', index=False)"
   ]
  }
 ],
 "metadata": {
  "kernelspec": {
   "display_name": ".venv",
   "language": "python",
   "name": "python3"
  },
  "language_info": {
   "codemirror_mode": {
    "name": "ipython",
    "version": 3
   },
   "file_extension": ".py",
   "mimetype": "text/x-python",
   "name": "python",
   "nbconvert_exporter": "python",
   "pygments_lexer": "ipython3",
   "version": "3.12.10"
  }
 },
 "nbformat": 4,
 "nbformat_minor": 5
}
